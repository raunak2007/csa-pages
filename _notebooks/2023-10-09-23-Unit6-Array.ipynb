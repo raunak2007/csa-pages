{
  "cells": [
    {
      "cell_type": "markdown",
      "metadata": {
        "id": "sg7bXgRx93uD"
      },
      "source": [
        "---\n",
        "toc: true\n",
        "comments: true\n",
        "layout: post\n",
        "title: Unit 6 Arrays - Teacher notebook\n",
        "description:  Lesson on the College Board Unit 6 Arrays. This is the teacher notebook.\n",
        "courses: { compsci: {week: 1} }\n",
        "type: hacks\n",
        "---"
      ]
    },
    {
      "cell_type": "markdown",
      "metadata": {
        "id": "xSwpKrkE93uF"
      },
      "source": [
        "## Intro into Arrays\n",
        "\n",
        "- An **array** is a data structure used to implement a collection (list) of primitive or object reference data.\n",
        "\n",
        "- An **element** is a single value in the **array**\n",
        "\n",
        "- The __**index**__ of an **element** is the position of the element in the **array**\n",
        "\n",
        "    - In java, the **first element** of an array is at **index 0**.\n",
        "\n",
        "- The **length** of an **array** is the number of elements in the array.\n",
        "\n",
        "    - **`length`** is a `public final` data member of an array\n",
        "\n",
        "        - Since `length` is `public`, we can access it in **any class**!\n",
        "\n",
        "        - Since `length` is `final` we cannot change an array's `length` after it has been created\n",
        "    - In Java, the **last element** of an array named `list` is at **index** `list.length -1`"
      ]
    },
    {
      "cell_type": "markdown",
      "metadata": {
        "id": "YxIOj6q593uF"
      },
      "source": [
        "imag## A look into list Memory\n",
        "`int [] listOne = new int[5];`\n",
        "\n",
        "This will allocate a space in memory for 5 integers.\n",
        "\n",
        "```\n",
        "ARRAY: [0, 0, 0, 0, 0]\n",
        "INDEX:  0  1  2  3  4\n",
        "```\n",
        "\n",
        "Using the keyword new uses the default values for the data type. The default values are as follows:\n",
        "\n",
        "| Data Type | Default Value |\n",
        "| --------- | ------------- |\n",
        "| byte      | (byte) 0      |\n",
        "| short     | (short) 0     |\n",
        "| int       | 0             |\n",
        "| double    | 0.0           |\n",
        "| boolean   | false         |\n",
        "| char      | '\\u0000'      |\n",
        "\n",
        "What do we do if we want to insert a value into the array?\n",
        "\n",
        "`listOne[0] = 5;`\n",
        "\n",
        "Gives us the following array:\n",
        "\n",
        "```\n",
        "ARRAY: [0, 0, 0, 0, 0]\n",
        "INDEX:  0  1  2  3  4\n",
        "```\n",
        "\n",
        "What if we want to initialize our own values? We can use an initializer list!\n",
        "\n",
        "`int [] listTwo = {1, 2, 3, 4, 5};`\n",
        "\n",
        "Gives us the following array:\n",
        "\n",
        "```\n",
        "ARRAY: [1, 2, 3, 4, 5]\n",
        "INDEX:  0  1  2  3  4\n",
        "```\n",
        "\n",
        "If we try to access an index outside of the range of existing indexes, we will get an error. But why? Remember the basis of all programming languages is memory. Because we are trying to access a location in memory that does not exist, java will throw an error (`ArrayIndexOutOfBoundsException`).\n",
        "\n",
        "How do we print the array? Directly printing the array will not work, it just prints the value of the array in memory. We need to iterate through the array and print each value individually!"
      ]
    },
    {
      "cell_type": "code",
      "execution_count": null,
      "metadata": {
        "id": "BRzT5JIG93uG",
        "outputId": "faf51d65-28e9-41c6-cd5f-0dee3c593761"
      },
      "outputs": [
        {
          "name": "stdout",
          "output_type": "stream",
          "text": [
            "Error at listOne[5] = 13\n",
            "ArrayIndexOutOfBoundsException: We can't access a memory index that doesn't exist!\n",
            "[I@620c6ceb\n",
            "0\n"
          ]
        }
      ],
      "source": [
        "/* lets take a look at the above */\n",
        "\n",
        "int [] listOne = new int[5]; // Our list looks like [0, 0, 0, 0, 0]\n",
        "\n",
        "listOne[2] = 33; // Our list looks like [0, 0, 33, 0, 0]\n",
        "listOne[3] = listOne[2] * 3; // Our list looks like [0, 0, 33, 99, 0]\n",
        "\n",
        "try {\n",
        "    listOne[5] = 13; // This will return an error\n",
        "} catch (Exception e) {\n",
        "    System.out.println(\"Error at listOne[5] = 13\");\n",
        "    System.out.println(\"ArrayIndexOutOfBoundsException: We can't access a memory index that doesn't exist!\");\n",
        "}\n",
        "\n",
        "\n",
        "System.out.println(listOne); // THIS DOES NOT PRINT THE LIST!! It prints the value in memory\n",
        "System.out.println(listOne[4]); // This will actually print the vaules in the array"
      ]
    },
    {
      "cell_type": "markdown",
      "metadata": {
        "id": "GrOF22dA93uH"
      },
      "source": [
        "## Popcorn Hacks!\n",
        "\n",
        "Write code to print out every element of listOne the following"
      ]
    },
    {
      "cell_type": "code",
      "execution_count": null,
      "metadata": {
        "id": "YToEjDTK93uH"
      },
      "outputs": [],
      "source": [
        "/* popcorn hacks go here */\n",
        "for (int i = 0; i < listOne.length; i++) {\n",
        "  System.out.println(listOne[i]);\n",
        "}"
      ]
    },
    {
      "cell_type": "markdown",
      "metadata": {
        "id": "hrByl6zo93uH"
      },
      "source": [
        "## Reference elements\n",
        "\n",
        "Lists can be made up of elements other than the default data types! We can make lists of objects, or even lists of lists! Lets say I have a class `Student` and I want to make a list of all students in the class. I can do this by creating a list of `Student` objects.\n",
        "\n",
        "```\n",
        "Student [] classList;\n",
        "classList new Student [3];\n",
        "```\n",
        "\n",
        "Keep in mind, however, that the list won't be generated with any students in it. They are initialized to `null` by default, and We need to create the students and then add them to the list ourselves.\n",
        "\n",
        "```\n",
        "classList[0] = new Student(\"Bob\", 12, 3.5);\n",
        "classList[1] = new Student(\"John\", 11, 4.0);\n",
        "classList[2] = new Student(\"Steve\", 10, 3.75);\n",
        "```"
      ]
    },
    {
      "cell_type": "markdown",
      "metadata": {
        "id": "g-YxWE2a93uH"
      },
      "source": [
        "## Popcorn hacks!\n",
        "\n",
        "Use a class that you have already created and create a list of objects of that class. Then, iterate through the list and print out each object using:\n",
        " 1) a for loop\n",
        " 2) a while loop"
      ]
    },
    {
      "cell_type": "code",
      "execution_count": null,
      "metadata": {
        "id": "ldtYpFPH93uH"
      },
      "outputs": [],
      "source": [
        "/* Popcorn hacks go here */\n",
        "class Student {\n",
        "    String name;\n",
        "    int age;\n",
        "    String grade;\n",
        "\n",
        "    public Student(String name, int age, String grade) {\n",
        "        this.name = name;\n",
        "        this.age = age;\n",
        "        this.grade = grade;\n",
        "    }\n",
        "}\n",
        "\n",
        "public class Main {\n",
        "    public static void main(String[] args) {\n",
        "        // Create a list of Student objects\n",
        "        Student[] students = {\n",
        "            new Student(\"Alice\", 18, \"A\"),\n",
        "            new Student(\"Bob\", 19, \"B\"),\n",
        "            new Student(\"Charlie\", 20, \"C\")\n",
        "        };\n",
        "\n",
        "        // Using a for loop to iterate through the list and print each object\n",
        "        System.out.println(\"Using a for loop:\");\n",
        "        for (Student student : students) {\n",
        "            System.out.println(\"Name: \" + student.name + \", Age: \" + student.age + \", Grade: \" + student.grade);\n",
        "        }\n",
        "\n",
        "        // Using a while loop to iterate through the list and print each object\n",
        "        System.out.println(\"\\nUsing a while loop:\");\n",
        "        int index = 0;\n",
        "        while (index < students.length) {\n",
        "            Student student = students[index];\n",
        "            System.out.println(\"Name: \" + student.name + \", Age: \" + student.age + \", Grade: \" + student.grade);\n",
        "            index++;\n",
        "        }\n",
        "    }\n",
        "}"
      ]
    },
    {
      "cell_type": "markdown",
      "metadata": {
        "id": "C4Hio-1W93uH"
      },
      "source": [
        "## Enhanced for loops\n",
        "\n",
        "The enhanced `for` loop is also called a for-each loop. Unlike a \"traditional\" indexed `for` loop with three parts separated by semicolons, there are only two parts to the enhanced `for` loop header and they are separated by a colon.\n",
        "\n",
        "The first half of an enhanced `for` loop signature is the type of name for the variable that is a copy of the value stored in the structure. Next a colon separates the variable section from the data structure being traversed with the loop.\n",
        "\n",
        "Inside the body of the loop you are able to access the value stored in the variable. A key point to remember is that you are unable to assign into the variable defined in the header (the signature)\n",
        "\n",
        "You also do not have access to the indices of the array or subscript notation when using the enhanced `for` loop.\n",
        "\n",
        "These loops have a structure similar to the one shown below:\n",
        "\n",
        "```js\n",
        "for (type declaration : structure )\n",
        "{\n",
        "    // statement one;\n",
        "    // statement two;\n",
        "    // ...\n",
        "}\n",
        "```\n",
        "\n",
        "## Popcorn Hacks!\n",
        "\n",
        "Create an array, then use a enhanced for loop to print out each element of the array."
      ]
    },
    {
      "cell_type": "code",
      "execution_count": null,
      "metadata": {
        "id": "Hzl3zxQS93uI"
      },
      "outputs": [],
      "source": [
        "/* Popcorn hacks go here */\n",
        "public class Main {\n",
        "    public static void main(String[] args) {\n",
        "        // Create an array of integers\n",
        "        int[] numbers = {1, 2, 3, 4, 5};\n",
        "        for (int number : numbers) {\n",
        "            System.out.println(number);\n",
        "        }\n",
        "    }\n",
        "}"
      ]
    },
    {
      "cell_type": "markdown",
      "metadata": {
        "id": "bHLsDs5K93uI"
      },
      "source": [
        "## Min maxing\n",
        "\n",
        "It is a common task to determine what the largest or smallest value stored is inside an array. in order to do this, we need a method that can ake a parameter of an array of primitive values (`int` or `double`) and return the item that is at the appropriate extreme.\n",
        "\n",
        "Inside the method of a local variable is needed to store the current max of min value that will be compared against all the values in the array. you can assign the current value to be either the opposite extreme or the first item you would be looking at.\n",
        "\n",
        "You can use either a standard `for` loop or an enhanced `for` loop to determine the max or min. Assign the temporary variable a starting value based on what extreme you are searching for.\n",
        "\n",
        "Inside the `for` loop, compare the current value against the local variable, if the current value is better, assign it to the temporary variable. When the loop is over, the local variable will contain the approximate value and is still available and within scope and can be returned from the method.\n",
        "\n",
        "## Popcorn Hacks!\n",
        "Create two lists: one of ints and one of doubles. Use both a standard for loop and an enhanced for loop to find the max and min of each list."
      ]
    },
    {
      "cell_type": "code",
      "execution_count": null,
      "metadata": {
        "id": "-w1V_79f93uI"
      },
      "outputs": [],
      "source": [
        "import java.util.List;\n",
        "\n",
        "public class MaxMinOfTwoLists {\n",
        "\n",
        "    public static void main(String[] args) {\n",
        "        List<Integer> intList = Arrays.asList(1, 2, 3, 4, 5);\n",
        "        List<Double> doubleList = Arrays.asList(1.5, 2.5, 3.5, 4.5, 5.5);\n",
        "\n",
        "        // Initialize variables to store the max and min of each list.\n",
        "        int intMax = intList.get(0);\n",
        "        int intMin = intList.get(0);\n",
        "        double doubleMax = doubleList.get(0);\n",
        "        double doubleMin = doubleList.get(0);\n",
        "\n",
        "        // Iterate over each list and update the max and min variables accordingly.\n",
        "        for (Integer intElement : intList) {\n",
        "            if (intElement > intMax) {\n",
        "                intMax = intElement;\n",
        "            }\n",
        "            if (intElement < intMin) {\n",
        "                intMin = intElement;\n",
        "            }\n",
        "        }\n",
        "\n",
        "        for (Double doubleElement : doubleList) {\n",
        "            if (doubleElement > doubleMax) {\n",
        "                doubleMax = doubleElement;\n",
        "            }\n",
        "            if (doubleElement < doubleMin) {\n",
        "                doubleMin = doubleElement;\n",
        "            }\n",
        "        }\n",
        "\n",
        "        // Print the max and min of each list.\n",
        "        System.out.println(\"max and min of the int list are: \" + intMax + \" \" + intMin);\n",
        "        System.out.println(\"max and min of the double list are: \" + doubleMax + \" \" + doubleMin);\n",
        "    }\n",
        "}\n"
      ]
    },
    {
      "cell_type": "markdown",
      "metadata": {
        "id": "zgmZBK8y93uI"
      },
      "source": [
        "## Hacks! (Due 10/22 11:59 PM)\n",
        "\n",
        "Given an input of *N* integers, find *A*, the maximum, *B*, the minimum, and *C* the median.\n",
        "\n",
        "Print the following in this order:\n",
        "*A* + *B* + *C*\n",
        "*A* - *B* - *C*\n",
        "(*A* + *B*) * *C*\n",
        "\n",
        "Sample data:\n",
        "```\n",
        "INPUT:\n",
        "5\n",
        "1 2 3 4 5\n",
        "\n",
        "OUTPUT:\n",
        "9 1 18\n",
        "\n",
        "INPUT:\n",
        "9\n",
        "2 4 6 8 10 10 12 14 16\n",
        "\n",
        "OUTPUT:\n",
        "28 6 180\n",
        "```\n",
        "\n",
        "For extra, create your own fun program using an array"
      ]
    },
    {
      "cell_type": "code",
      "source": [
        "import java.util.Arrays;\n",
        "import java.util.Scanner;\n",
        "\n",
        "public class StatsCalculator {\n",
        "    public static void main(String[] args) {\n",
        "        Scanner scanner = new Scanner(System.in);\n",
        "\n",
        "        int N = scanner.nextInt();\n",
        "        int[] arr = new int[N];\n",
        "\n",
        "        for (int i = 0; i < N; i++) {\n",
        "            arr[i] = scanner.nextInt();\n",
        "        }\n",
        "\n",
        "        // Sort the array to easily find A and C\n",
        "        Arrays.sort(arr);\n",
        "\n",
        "        int A = arr[N - 1]; // Maximum\n",
        "        int B = arr[0];     // Minimum\n",
        "\n",
        "        double C; // Median\n",
        "\n",
        "        if (N % 2 == 0) {\n",
        "            // If N is even, calculate the average of the middle two values\n",
        "            int mid1 = arr[N / 2 - 1];\n",
        "            int mid2 = arr[N / 2];\n",
        "            C = (double) (mid1 + mid2) / 2;\n",
        "        } else {\n",
        "            // If N is odd, take the middle value\n",
        "            C = (double) arr[N / 2];\n",
        "        }\n",
        "\n",
        "        // Perform the calculations\n",
        "        double calc1 = A + B + C;\n",
        "        double calc2 = A - B - C;\n",
        "        double calc3 = (A + B) * C;\n",
        "\n",
        "        // Print the results\n",
        "        System.out.println(calc1 + \" \" + calc2 + \" \" + calc3);\n",
        "    }\n",
        "}\n"
      ],
      "metadata": {
        "id": "qkPlcHYf_TBX"
      },
      "execution_count": null,
      "outputs": []
    },
    {
      "cell_type": "markdown",
      "source": [
        "# Extra"
      ],
      "metadata": {
        "id": "x_yb9E0v_dfp"
      }
    },
    {
      "cell_type": "code",
      "source": [
        "import java.util.Scanner;\n",
        "\n",
        "public class FunArrayProgram {\n",
        "    public static void main(String[] args) {\n",
        "        Scanner scanner = new Scanner(System.in);\n",
        "\n",
        "        System.out.print(\"Enter the number of elements in the array: \");\n",
        "        int n = scanner.nextInt();\n",
        "\n",
        "        int[] arr = new int[n];\n",
        "\n",
        "        System.out.println(\"Enter the elements of the array:\");\n",
        "\n",
        "        for (int i = 0; i < n; i++) {\n",
        "            arr[i] = scanner.nextInt();\n",
        "        }\n",
        "\n",
        "        int sumEven = 0;\n",
        "        long productOdd = 1; // Use long to avoid integer overflow\n",
        "        int largest = arr[0];\n",
        "        int smallest = arr[0];\n",
        "\n",
        "        for (int num : arr) {\n",
        "            if (num % 2 == 0) {\n",
        "                // Sum of even numbers\n",
        "                sumEven += num;\n",
        "            } else {\n",
        "                // Product of odd numbers\n",
        "                productOdd *= num;\n",
        "            }\n",
        "\n",
        "            // Find the largest and smallest numbers\n",
        "            if (num > largest) {\n",
        "                largest = num;\n",
        "            }\n",
        "            if (num < smallest) {\n",
        "                smallest = num;\n",
        "            }\n",
        "        }\n",
        "\n",
        "        System.out.println(\"Sum of even numbers: \" + sumEven);\n",
        "        System.out.println(\"Product of odd numbers: \" + productOdd);\n",
        "        System.out.println(\"Largest number: \" + largest);\n",
        "        System.out.println(\"Smallest number: \" + smallest);\n",
        "    }\n",
        "}\n"
      ],
      "metadata": {
        "id": "FY3ICQsa_imh"
      },
      "execution_count": null,
      "outputs": []
    }
  ],
  "metadata": {
    "kernelspec": {
      "display_name": "Java",
      "language": "java",
      "name": "java"
    },
    "language_info": {
      "codemirror_mode": "java",
      "file_extension": ".jshell",
      "mimetype": "text/x-java-source",
      "name": "java",
      "pygments_lexer": "java",
      "version": "18.0.2.1+1-1"
    },
    "orig_nbformat": 4,
    "colab": {
      "provenance": []
    }
  },
  "nbformat": 4,
  "nbformat_minor": 0
}
