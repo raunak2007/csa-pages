{
  "cells": [
    {
      "cell_type": "markdown",
      "metadata": {
        "id": "SPHMrd3TpWJz"
      },
      "source": [
        "---\n",
        "toc: true\n",
        "comments: true\n",
        "layout: post\n",
        "title: Unit 6 Arrays - Teacher notebook\n",
        "description:  Lesson on the College Board Unit 6 Arrays. This is the teacher notebook.\n",
        "courses: { compsci: {week: 1} }\n",
        "type: hacks\n",
        "---"
      ]
    },
    {
      "cell_type": "markdown",
      "metadata": {
        "id": "kbGA52b_pWJ3"
      },
      "source": [
        "## Intro into Arrays\n",
        "\n",
        "- An **array** is a data structure used to implement a collection (list) of primitive or object reference data.\n",
        "\n",
        "- An **element** is a single value in the **array**\n",
        "\n",
        "- The __**index**__ of an **element** is the position of the element in the **array**\n",
        "\n",
        "    - In java, the **first element** of an array is at **index 0**.\n",
        "\n",
        "- The **length** of an **array** is the number of elements in the array.\n",
        "\n",
        "    - **`length`** is a `public final` data member of an array\n",
        "\n",
        "        - Since `length` is `public`, we can access it in **any class**!\n",
        "\n",
        "        - Since `length` is `final` we cannot change an array's `length` after it has been created\n",
        "    - In Java, the **last element** of an array named `list` is at **index** `list.length -1`"
      ]
    },
    {
      "cell_type": "markdown",
      "metadata": {
        "id": "4jS0t1FVpWJ3"
      },
      "source": [
        "## A look into list Memory\n",
        "`int [] listOne = new int[5];`\n",
        "\n",
        "This will allocate a space in memory for 5 integers.\n",
        "\n",
        "```\n",
        "ARRAY: [0, 0, 0, 0, 0]\n",
        "INDEX:  0  1  2  3  4\n",
        "```\n",
        "\n",
        "Using the keyword new uses the default values for the data type. The default values are as follows:\n",
        "\n",
        "| Data Type | Default Value |\n",
        "| --------- | ------------- |\n",
        "| byte      | (byte) 0      |\n",
        "| short     | (short) 0     |\n",
        "| int       | 0             |\n",
        "| double    | 0.0           |\n",
        "| boolean   | false         |\n",
        "| char      | '\\u0000'      |\n",
        "\n",
        "What do we do if we want to insert a value into the array?\n",
        "\n",
        "`listOne[0] = 5;`\n",
        "\n",
        "Gives us the following array:\n",
        "\n",
        "```\n",
        "ARRAY: [0, 0, 0, 0, 0]\n",
        "INDEX:  0  1  2  3  4\n",
        "```\n",
        "\n",
        "What if we want to initialize our own values? We can use an initializer list!\n",
        "\n",
        "`int [] listTwo = {1, 2, 3, 4, 5};`\n",
        "\n",
        "Gives us the following array:\n",
        "\n",
        "```\n",
        "ARRAY: [1, 2, 3, 4, 5]\n",
        "INDEX:  0  1  2  3  4\n",
        "```\n",
        "\n",
        "If we try to access an index outside of the range of existing indexes, we will get an error. But why? Remember the basis of all programming languages is memory. Because we are trying to access a location in memory that does not exist, java will throw an error (`ArrayIndexOutOfBoundsException`).\n",
        "\n",
        "How do we print the array? Directly printing the array will not work, it just prints the value of the array in memory. We need to iterate through the array and print each value individually!"
      ]
    },
    {
      "cell_type": "code",
      "execution_count": null,
      "metadata": {
        "id": "M5Ou_ejwpWJ4",
        "outputId": "b9883a7e-89b6-498f-e53e-fffb861ef670"
      },
      "outputs": [
        {
          "name": "stdout",
          "output_type": "stream",
          "text": [
            "Error at listOne[5] = 13\n",
            "ArrayIndexOutOfBoundsException: We can't access a memory index that doesn't exist!\n",
            "[I@620c6ceb\n",
            "0\n"
          ]
        }
      ],
      "source": [
        "/* lets take a look at the above */\n",
        "\n",
        "int [] listOne = new int[5]; // Our list looks like [0, 0, 0, 0, 0]\n",
        "\n",
        "listOne[2] = 33; // Our list looks like [0, 0, 33, 0, 0]\n",
        "listOne[3] = listOne[2] * 3; // Our list looks like [0, 0, 33, 99, 0]\n",
        "\n",
        "try {\n",
        "    listOne[5] = 13; // This will return an error\n",
        "} catch (Exception e) {\n",
        "    System.out.println(\"Error at listOne[5] = 13\");\n",
        "    System.out.println(\"ArrayIndexOutOfBoundsException: We can't access a memory index that doesn't exist!\");\n",
        "}\n",
        "\n",
        "\n",
        "System.out.println(listOne); // THIS DOES NOT PRINT THE LIST!! It prints the value in memory\n",
        "System.out.println(listOne[4]); // This will actually print the vaules in the array"
      ]
    },
    {
      "cell_type": "markdown",
      "metadata": {
        "id": "3HkzPGespWJ6"
      },
      "source": [
        "## Popcorn Hacks!\n",
        "\n",
        "Write code to print out every element of listOne the following"
      ]
    },
    {
      "cell_type": "code",
      "execution_count": null,
      "metadata": {
        "id": "rZR0XIeOpWJ6"
      },
      "outputs": [],
      "source": [
        "/* popcorn hacks go here */\n",
        "int[] listOne = new int[5];\n",
        "listOne[2] = 33;\n",
        "listOne[3] = listOne[2] * 3;\n",
        "\n",
        "for (int i = 0; i < listOne.length; i++) {\n",
        "  System.out.println(listOne[i]);\n",
        "}\n"
      ]
    },
    {
      "cell_type": "markdown",
      "metadata": {
        "id": "8GUt5Cz3pWJ7"
      },
      "source": [
        "## Reference elements\n",
        "\n",
        "Lists can be made up of elements other than the default data types! We can make lists of objects, or even lists of lists! Lets say I have a class `Student` and I want to make a list of all students in the class. I can do this by creating a list of `Student` objects.\n",
        "\n",
        "```\n",
        "Student [] classList;\n",
        "classList new Student [3];\n",
        "```\n",
        "\n",
        "Keep in mind, however, that the list won't be generated with any students in it. They are initialized to `null` by default, and We need to create the students and then add them to the list ourselves.\n",
        "\n",
        "```\n",
        "classList[0] = new Student(\"Bob\", 12, 3.5);\n",
        "classList[1] = new Student(\"John\", 11, 4.0);\n",
        "classList[2] = new Student(\"Steve\", 10, 3.75);\n",
        "```"
      ]
    },
    {
      "cell_type": "markdown",
      "metadata": {
        "id": "xw33BvMXpWJ7"
      },
      "source": [
        "## Popcorn hacks!\n",
        "\n",
        "Use a class that you have already created and create a list of objects of that class. Then, iterate through the list and print out each object using:\n",
        " 1) a for loop\n",
        " 2) a while loop"
      ]
    },
    {
      "cell_type": "code",
      "execution_count": null,
      "metadata": {
        "id": "ctUYUh2zpWJ8"
      },
      "outputs": [],
      "source": [
        "/* Popcorn hacks go here */\n",
        "\n",
        "class Student {\n",
        "    String name;\n",
        "    int age;\n",
        "    String grade;\n",
        "\n",
        "    public Student(String name, int age, String grade) {\n",
        "        this.name = name;\n",
        "        this.age = age;\n",
        "        this.grade = grade;\n",
        "    }\n",
        "}\n",
        "\n",
        "public class Main {\n",
        "    public static void main(String[] args) {\n",
        "        // Create a list of Student objects\n",
        "        Student[] students = {\n",
        "            new Student(\"Alice\", 18, \"A\"),\n",
        "            new Student(\"Bob\", 19, \"B\"),\n",
        "            new Student(\"Charlie\", 20, \"C\")\n",
        "        };\n",
        "\n",
        "        // Using a for loop to iterate through the list and print each object\n",
        "        System.out.println(\"Using a for loop:\");\n",
        "        for (Student student : students) {\n",
        "            System.out.println(\"Name: \" + student.name + \", Age: \" + student.age + \", Grade: \" + student.grade);\n",
        "        }\n",
        "\n",
        "        // Using a while loop to iterate through the list and print each object\n",
        "        System.out.println(\"\\nUsing a while loop:\");\n",
        "        int index = 0;\n",
        "        while (index < students.length) {\n",
        "            Student student = students[index];\n",
        "            System.out.println(\"Name: \" + student.name + \", Age: \" + student.age + \", Grade: \" + student.grade);\n",
        "            index++;\n",
        "        }\n",
        "    }\n",
        "}\n"
      ]
    },
    {
      "cell_type": "markdown",
      "metadata": {
        "id": "vlNEiHSapWJ8"
      },
      "source": [
        "## Enhanced for loops\n",
        "\n",
        "The enhanced `for` loop is also called a for-each loop. Unlike a \"traditional\" indexed `for` loop with three parts separated by semicolons, there are only two parts to the enhanced `for` loop header and they are separated by a colon.\n",
        "\n",
        "The first half of an enhanced `for` loop signature is the type of name for the variable that is a copy of the value stored in the structure. Next a colon separates the variable section from the data structure being traversed with the loop.\n",
        "\n",
        "Inside the body of the loop you are able to access the value stored in the variable. A key point to remember is that you are unable to assign into the variable defined in the header (the signature)\n",
        "\n",
        "You also do not have access to the indices of the array or subscript notation when using the enhanced `for` loop.\n",
        "\n",
        "These loops have a structure similar to the one shown below:\n",
        "\n",
        "```js\n",
        "for (type declaration : structure )\n",
        "{\n",
        "    // statement one;\n",
        "    // statement two;\n",
        "    // ...\n",
        "}\n",
        "```\n",
        "\n",
        "## Popcorn Hacks!\n",
        "\n",
        "Create two lists: one of ints and one of doubles. Use both a standard for loop and an enhanced for loop to find the max and min of each list."
      ]
    },
    {
      "cell_type": "code",
      "execution_count": null,
      "metadata": {
        "id": "FHUPDecypWJ8"
      },
      "outputs": [],
      "source": [
        "/* Popcorn hacks go here */\n",
        "import java.util.List;\n",
        "\n",
        "public class MaxMinOfTwoLists {\n",
        "\n",
        "    public\n",
        "\n",
        "static\n",
        "\n",
        "void\n",
        "\n",
        "main(String[] args)\n",
        "\n",
        "{\n",
        "        List<Integer> intList = Arrays.asList(1, 2, 3, 4, 5);\n",
        "        List<Double> doubleList = Arrays.asList(1.5, 2.5, 3.5, 4.5, 5.5);\n",
        "\n",
        "        // Initialize variables to store the max and min of each list.\n",
        "\n",
        "\n",
        "int intMax = intList.get(0);\n",
        "        int intMin = intList.get(0);\n",
        "        double doubleMax = doubleList.get(0);\n",
        "        double doubleMin = doubleList.get(0);\n",
        "\n",
        "        // Iterate over each list and update the max and min variables accordingly.\n",
        "\n",
        "\n",
        "for (Integer intElement : intList) {\n",
        "            if (intElement > intMax) {\n",
        "                intMax = intElement;\n",
        "            }\n",
        "            if (intElement < intMin) {\n",
        "                intMin = intElement;\n",
        "            }\n",
        "        }\n",
        "\n",
        "        for (Double doubleElement : doubleList) {\n",
        "            if (doubleElement > doubleMax) {\n",
        "                doubleMax = doubleElement;\n",
        "            }\n",
        "            if (doubleElement < doubleMin) {\n",
        "                doubleMin = doubleElement;\n",
        "            }\n",
        "        }\n",
        "\n",
        "        // Print the max and min of each list.\n",
        "        System.out.println(\"max and min of the int list are: \" + intMax + \" \" + intMin);\n",
        "        System.out.println(\"max and min of the double list are: \" + doubleMax + \" \" + doubleMin);\n",
        "    }\n",
        "}"
      ]
    },
    {
      "cell_type": "markdown",
      "metadata": {
        "id": "jiFMbHzHpWJ9"
      },
      "source": [
        "## Min maxing\n",
        "\n",
        "It is a common task to determine what the largest or smallest value stored is inside an array. in order to do this, we need a method that can ake a parameter of an array of primitive values (`int` or `double`) and return the item that is at the appropriate extreme.\n",
        "\n",
        "Inside the method of a local variable is needed to store the current max of min value that will be compared against all the values in the array. you can assign the current value to be either the opposite extreme or the first item you would be looking at.\n",
        "\n",
        "You can use either a standard `for` loop or an enhanced `for` loop to determine the max or min. Assign the temporary variable a starting value based on what extreme you are searching for.\n",
        "\n",
        "Inside the `for` loop, compare the current value against the local variable, if the current value is better, assign it to the temporary variable. When the loop is over, the local variable will contain the approximate value and is still available and within scope and can be returned from the method.\n",
        "\n",
        "## Popcorn Hacks!\n",
        "Create two lists: one of ints and one of doubles. Use both a standard for loop and an enhanced for loop to find the max and min of each list."
      ]
    },
    {
      "cell_type": "code",
      "execution_count": null,
      "metadata": {
        "id": "HMq1jPmopWJ9"
      },
      "outputs": [],
      "source": [
        "/* Popcorn hacks go here! */\n",
        "import java.util.ArrayList;\n",
        "import java.util.List;\n",
        "\n",
        "public class Main {\n",
        "    public static void main(String[] args) {\n",
        "\n",
        "        List<Integer> intList = new ArrayList<>();\n",
        "        intList.add(5);\n",
        "        intList.add(10);\n",
        "        intList.add(2);\n",
        "        intList.add(8);\n",
        "        intList.add(3);\n",
        "\n",
        "\n",
        "        List<Double> doubleList = new ArrayList<>();\n",
        "        doubleList.add(3.14);\n",
        "        doubleList.add(1.618);\n",
        "        doubleList.add(2.718);\n",
        "        doubleList.add(0.577);\n",
        "        doubleList.add(1.0);\n",
        "\n",
        "\n",
        "        int intMax = intList.get(0);\n",
        "        int intMin = intList.get(0);\n",
        "\n",
        "        for (int i = 1; i < intList.size(); i++) {\n",
        "            int currentInt = intList.get(i);\n",
        "            if (currentInt > intMax) {\n",
        "                intMax = currentInt;\n",
        "            }\n",
        "            if (currentInt < intMin) {\n",
        "                intMin = currentInt;\n",
        "            }\n",
        "        }\n",
        "\n",
        "\n",
        "        double doubleMax = Double.MIN_VALUE;\n",
        "        double doubleMin = Double.MAX_VALUE;\n",
        "\n",
        "        for (double value : doubleList) {\n",
        "            if (value > doubleMax) {\n",
        "                doubleMax = value;\n",
        "            }\n",
        "            if (value < doubleMin) {\n",
        "                doubleMin = value;\n",
        "            }\n",
        "        }\n",
        "\n",
        "        // Print the results\n",
        "        System.out.println(\"Integer List - Max: \" + intMax + \", Min: \" + intMin);\n",
        "        System.out.println(\"Double List - Max: \" + doubleMax + \", Min: \" + doubleMin);\n",
        "    }\n",
        "}\n"
      ]
    }
  ],
  "metadata": {
    "kernelspec": {
      "display_name": "Java",
      "language": "java",
      "name": "java"
    },
    "language_info": {
      "codemirror_mode": "java",
      "file_extension": ".jshell",
      "mimetype": "text/x-java-source",
      "name": "java",
      "pygments_lexer": "java",
      "version": "18.0.2.1+1-1"
    },
    "orig_nbformat": 4,
    "colab": {
      "provenance": []
    }
  },
  "nbformat": 4,
  "nbformat_minor": 0
}
