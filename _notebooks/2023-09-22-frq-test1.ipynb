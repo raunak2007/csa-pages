{
 "cells": [
  {
   "cell_type": "code",
   "execution_count": null,
   "metadata": {},
   "outputs": [],
   "source": [
    "public static void main(String args[]){\n",
    "    System.out.println(\"Keypad:\");\n",
    "    initializeKeypad();\n",
    "    \n",
    "    System.out.println(\"\\nReversed Array:\");\n",
    "    reverseArray();\n",
    "\n",
    "    System.out.println(\"\\n\\n Random List:\");\n",
    "    ArrayList<Integer> randomList=initializeRandomList(5,2,8);\n",
    "    System.out.println(randomList);\n",
    "}\n",
    "main(null);"
   ]
  }
 ],
 "metadata": {
  "language_info": {
   "name": "python"
  },
  "orig_nbformat": 4
 },
 "nbformat": 4,
 "nbformat_minor": 2
}
