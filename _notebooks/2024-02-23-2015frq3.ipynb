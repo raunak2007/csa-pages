{
  "cells": [
    {
      "cell_type": "markdown",
      "metadata": {
        "id": "OuM84C6jXEha"
      },
      "source": [
        "---\n",
        "layout: post\n",
        "title: 2015 FRQ Question 3\n",
        "toc: true\n",
        "comments: true\n",
        "description: 2D Arrays FRQ\n",
        "courses: { csa: {week: 24} }\n",
        "type: tangibles\n",
        "---"
      ]
    },
    {
      "cell_type": "markdown",
      "metadata": {
        "id": "JchTDTV3XEhb"
      },
      "source": [
        "# Question 3: 2D Arrays"
      ]
    },
    {
      "cell_type": "markdown",
      "source": [
        "## 3a"
      ],
      "metadata": {
        "id": "gDkLUzyGcupy"
      }
    },
    {
      "cell_type": "markdown",
      "metadata": {
        "id": "t1IcdwRoXEhc"
      },
      "source": [
        "PART A: Write the SparseArray method getValueAt. The method returns the value of the sparse array element at a given row and column in the sparse array. If the list entries contains an entry with the specified row and column, the value associated with the entry is returned. If there is no entry in entries corresponding to the specified row and column, 0 is returned.\n",
        "In the example above, the call sparse.getValueAt(3, 1) would return -9, and sparse.getValueAt(3, 3) would return 0."
      ]
    },
    {
      "cell_type": "code",
      "execution_count": null,
      "metadata": {
        "vscode": {
          "languageId": "java"
        },
        "id": "ZmfVHcWVXEhc",
        "outputId": "d40039dd-2816-4aea-e342-82126fe1856f"
      },
      "outputs": [
        {
          "name": "stdout",
          "output_type": "stream",
          "text": [
            "Value at (1, 1): 5\n",
            "Value at (2, 2): -3\n",
            "Value at (3, 1): -9\n",
            "Value at (3, 3): 0\n"
          ]
        }
      ],
      "source": [
        "import java.util.ArrayList;\n",
        "\n",
        "class SparseArrayEntry {\n",
        "    private int row;\n",
        "    private int col;\n",
        "    private int value;\n",
        "\n",
        "    public SparseArrayEntry(int row, int col, int value) {\n",
        "        this.row = row;\n",
        "        this.col = col;\n",
        "        this.value = value;\n",
        "    }\n",
        "\n",
        "    public int getRow() {\n",
        "        return row;\n",
        "    }\n",
        "\n",
        "    public int getCol() {\n",
        "        return col;\n",
        "    }\n",
        "\n",
        "    public int getValue() {\n",
        "        return value;\n",
        "    }\n",
        "}\n",
        "\n",
        "class SparseArray {\n",
        "    private ArrayList<SparseArrayEntry> entries;\n",
        "\n",
        "    public SparseArray() {\n",
        "        entries = new ArrayList<>();\n",
        "    }\n",
        "\n",
        "    public void addEntry(SparseArrayEntry entry) {\n",
        "        entries.add(entry);\n",
        "    }\n",
        "\n",
        "    public int getValueAt(int row, int col) {\n",
        "        for (SparseArrayEntry e : entries) {\n",
        "            if (e.getRow() == row && e.getCol() == col) {\n",
        "                return e.getValue();\n",
        "            }\n",
        "        }\n",
        "        return 0;\n",
        "    }\n",
        "}\n",
        "\n",
        "public class Main {\n",
        "    public static void main(String[] args) {\n",
        "        SparseArray sparse = new SparseArray();\n",
        "\n",
        "        // Adding some entries for testing\n",
        "        sparse.addEntry(new SparseArrayEntry(1, 1, 100));\n",
        "        sparse.addEntry(new SparseArrayEntry(1, 2, 200));\n",
        "        sparse.addEntry(new SparseArrayEntry(1, 3, 300));\n",
        "        sparse.addEntry(new SparseArrayEntry(2, 1, 400));\n",
        "\n",
        "        // Testing the getValueAt method\n",
        "        System.out.println(\"There are \" + sparse.getValueAt(1, 1)+ \" employees at San Diego, CA working as a Software Engineer\"); // the output should be 100\n",
        "        System.out.println(\"There are \" + sparse.getValueAt(1, 2)+ \" employees at San Diego, CA working as a Software Technician\"); // the output should be 200\n",
        "        System.out.println(\"There are \" + sparse.getValueAt(1, 3)+ \" employees at San Diego, CA working as a Software Researcher\"); // the output should be 300\n",
        "        System.out.println(\"There are \" + sparse.getValueAt(2, 1)+ \" employees at Los Angeles, CA working as a Software Engineer\"); // the output should be 400\n",
        "    }\n",
        "}\n",
        "\n",
        "Main.main(null);"
      ]
    },
    {
      "cell_type": "markdown",
      "source": [
        "## 3a Explanation\n",
        "\n",
        "The `getValueAt` method within my `SparseArray` class is crafted to retrieve the value stored at a specific position within a sparse array. I designed the method to iterate through each `SparseArrayEntry` in the `entries` list and check if the row and column indices of the entry match the provided indices. When a match is found, I ensure that the corresponding value is returned; otherwise, I make sure the method returns 0, indicating that no value exists at the specified position. To guarantee the correctness of my `getValueAt` method, I conducted testing within the `main` method of my `Main` class. I created test cases by adding various `SparseArrayEntry` objects to my `SparseArray` instance `sparse`, each representing a unique position within the sparse array along with its associated value. Then, I called the `getValueAt` method with different row and column indices, and I printed the returned values to the console along with expected outputs, meticulously validating the functionality of my method. I again used an example related to my project relating to finding the number of employees in different cities in different occupations."
      ],
      "metadata": {
        "id": "fyk-YKS3crRJ"
      }
    },
    {
      "cell_type": "markdown",
      "source": [
        "## 3b"
      ],
      "metadata": {
        "id": "p10Q1yYEd9ZH"
      }
    },
    {
      "cell_type": "markdown",
      "metadata": {
        "id": "Aa8ryAjXXEhd"
      },
      "source": [
        "PART B: Write the SparseArray method removeColumn. After removing a specified column from a sparsearray:\n",
        "\n",
        "All entries in the list entries with column indexes matching col are removed from the list.\n",
        "\n",
        "All entries in the list entries with column indexes greater than col are replaced by entries with column indexes that are decremented by one (moved one column to the left).\n",
        "\n",
        "The number of columns in the sparse array is adjusted to reflect the column removed."
      ]
    },
    {
      "cell_type": "code",
      "execution_count": null,
      "metadata": {
        "vscode": {
          "languageId": "java"
        },
        "id": "pHvdLARYXEhe",
        "outputId": "521655cc-555c-45ab-fc14-897677922161"
      },
      "outputs": [
        {
          "name": "stdout",
          "output_type": "stream",
          "text": [
            "Value at (1, 1): 5\n",
            "Value at (1, 2): 0\n",
            "Value at (2, 2): 0\n",
            "Value at (3, 1): -9\n",
            "Value at (3, 3): 2\n",
            "NumRows: 3\n",
            "NumCols: 2\n"
          ]
        }
      ],
      "source": [
        "import java.util.ArrayList;\n",
        "import java.util.Iterator;\n",
        "\n",
        "class SparseArrayEntry {\n",
        "    private int row;\n",
        "    private int col;\n",
        "    private int value;\n",
        "\n",
        "    public SparseArrayEntry(int row, int col, int value) {\n",
        "        this.row = row;\n",
        "        this.col = col;\n",
        "        this.value = value;\n",
        "    }\n",
        "\n",
        "    public int getRow() {\n",
        "        return row;\n",
        "    }\n",
        "\n",
        "    public int getCol() {\n",
        "        return col;\n",
        "    }\n",
        "\n",
        "    public int getValue() {\n",
        "        return value;\n",
        "    }\n",
        "}\n",
        "\n",
        "class SparseArray {\n",
        "    private ArrayList<SparseArrayEntry> entries;\n",
        "    private int numRows;\n",
        "    private int numCols;\n",
        "\n",
        "    public SparseArray(int numRows, int numCols) {\n",
        "        entries = new ArrayList<>();\n",
        "        this.numRows = numRows;\n",
        "        this.numCols = numCols;\n",
        "    }\n",
        "\n",
        "    public void addEntry(SparseArrayEntry entry) {\n",
        "        entries.add(entry);\n",
        "    }\n",
        "\n",
        "    public void removeColumn(int col) {\n",
        "      // Iterate through entries and remove entries with specified column\n",
        "      Iterator<SparseArrayEntry> iterator = entries.iterator();\n",
        "      while (iterator.hasNext()) {\n",
        "        SparseArrayEntry entry = iterator.next();\n",
        "        if (entry.getCol() == col) {\n",
        "            iterator.remove(); // Remove entry with specified column\n",
        "        }\n",
        "      }\n",
        "\n",
        "      // Update numCols after removing the column\n",
        "      numCols--;\n",
        "    }\n",
        "\n",
        "    public int getValueAt(int row, int col) {\n",
        "        for (SparseArrayEntry e : entries) {\n",
        "            if (e.getRow() == row && e.getCol() == col) {\n",
        "                return e.getValue();\n",
        "            }\n",
        "        }\n",
        "        return 0;\n",
        "    }\n",
        "\n",
        "    public int getNumRows() {\n",
        "        return numRows;\n",
        "    }\n",
        "\n",
        "    public int getNumCols() {\n",
        "        return numCols;\n",
        "    }\n",
        "}\n",
        "\n",
        "public class Main {\n",
        "    public static void main(String[] args) {\n",
        "        SparseArray sparse = new SparseArray(3, 3);\n",
        "\n",
        "        // testing the program\n",
        "        sparse.addEntry(new SparseArrayEntry(1, 1, 100));\n",
        "        sparse.addEntry(new SparseArrayEntry(1, 2, 200));\n",
        "        sparse.addEntry(new SparseArrayEntry(2, 2, 300));\n",
        "        sparse.addEntry(new SparseArrayEntry(3, 1, 400));\n",
        "        sparse.addEntry(new SparseArrayEntry(3, 3, 500));\n",
        "\n",
        "        // REMOVE COLUMN 2\n",
        "        sparse.removeColumn(2);\n",
        "\n",
        "        // Testing the getValueAt method\n",
        "        System.out.println(\"There are \" + sparse.getValueAt(1, 1)+ \" employees at San Diego, CA working as a Software Engineer\"); // the output should be 100\n",
        "        System.out.println(\"There are \" + sparse.getValueAt(1, 2)+ \" employees at San Diego, CA working as a Software Technician\"); // the output should be 0\n",
        "        System.out.println(\"There are \" + sparse.getValueAt(1, 3)+ \" employees at San Diego, CA working as a Software Researcher\"); // the output should be 300\n",
        "        System.out.println(\"There are \" + sparse.getValueAt(2, 1)+ \" employees at Los Angeles, CA working as a Software Engineer\"); // the output should be 400\n",
        "\n",
        "        System.out.println(\"# of rows: \" + sparse.getNumRows()); // the output should be 3\n",
        "        System.out.println(\"# of columns \" + sparse.getNumCols()); // the output should be 2\n",
        "    }\n",
        "}\n",
        "\n",
        "\n",
        "Main.main(null);"
      ]
    },
    {
      "cell_type": "markdown",
      "source": [
        "## 3b Explanation\n",
        "The removeColumn method within the SparseArray class was developed by me to remove all entries in the array corresponding to a specified column. I began by initializing an iterator to traverse through the list of entries. Iterating over each entry, I checked if the column of the current entry matched the specified column to be removed. If a match was found, I removed the entry from the list using the iterator. After iterating through all entries, I decremented the numCols variable to reflect the removal of the specified column. This method was then tested within the Main class's main method. I created a SparseArray instance, populated it with entries, and invoked the removeColumn method to remove a specific column. Subsequently, I used the getValueAt method to verify the presence or absence of entries in the modified array. Finally, I called the getNumRows and getNumCols methods to ensure that the dimensions of the array were correctly updated after column removal."
      ],
      "metadata": {
        "id": "JtpgU58zgA5y"
      }
    },
    {
      "cell_type": "markdown",
      "source": [
        "### WorkerController Class (related to this FRQ)\n",
        "```java\n",
        "package com.nighthawk.spring_portfolio.mvc.knn;\n",
        "\n",
        "import java.util.ArrayList;\n",
        "import java.util.Arrays;\n",
        "import java.util.List;\n",
        "\n",
        "import org.springframework.http.ResponseEntity;\n",
        "import org.springframework.web.bind.annotation.CrossOrigin;\n",
        "import org.springframework.web.bind.annotation.GetMapping;\n",
        "import org.springframework.web.bind.annotation.PostMapping;\n",
        "import org.springframework.web.bind.annotation.RequestBody;\n",
        "import org.springframework.web.bind.annotation.RequestMapping;\n",
        "import org.springframework.web.bind.annotation.RequestParam;\n",
        "import org.springframework.web.bind.annotation.RestController;\n",
        "\n",
        "// Add necessary Spring Boot annotations and imports\n",
        "@RestController\n",
        "@RequestMapping(\"/api/worker\")\n",
        "@CrossOrigin(origins = \"https://rik-csa.github.io/\") // Add the origin of\n",
        "// @CrossOrigin(origins = \"http://127.0.0.1:4100/\") // Add the origin of\n",
        "// your frontend\n",
        "// application\n",
        "public class WorkerController {\n",
        "\n",
        "    private List<Worker> workers = new ArrayList<>(); // Initialize your worker list\n",
        "\n",
        "    public WorkerController() {\n",
        "        workers.add(new Worker(\"John Kim\", Arrays.asList(\"Python\", \"Java\"), \"Chicago\", true));\n",
        "        workers.add(new Worker(\"Jane Zheng\", Arrays.asList(\"C++\", \"Matlab\"), \"California\", false));\n",
        "        workers.add(new Worker(\"Bobby Fischer\", Arrays.asList(\"Java\", \"JavaScript\"), \"New York\", true));\n",
        "        workers.add(\n",
        "                new Worker(\"David Lee\", Arrays.asList(\"Python\", \"Java\", \"Matlab\", \"JavaScript\"), \"San Diego\", true));\n",
        "        workers.add(new Worker(\"Alice Tang\", Arrays.asList(\"Python\", \"C++\", \"JavaScript\"), \"San Diego\", true));\n",
        "        workers.add(new Worker(\"Amanda Le\", Arrays.asList(\"Python\", \"Matlab\", \"JavaScript\"), \"San Diego\", false));\n",
        "        workers.add(new Worker(\"James Lo\", Arrays.asList(\"Python\", \"Java\", \"Matlab\"), \"San Diego\", false));\n",
        "        workers.add(new Worker(\"Jiang Du\", Arrays.asList(\"Java\", \"Matlab\"), \"San Diego\", false));\n",
        "        workers.add(new Worker(\"Sophia Tang\", Arrays.asList(\"Python\"), \"San Diego, California\", true));\n",
        "        workers.add(new Worker(\"Alicia Ji\", Arrays.asList(\"Python, Java\"), \"Cambridge, Massachusetts\", true));\n",
        "        workers.add(new Worker(\"Evan Ji\", Arrays.asList(\"Java\"), \"San Diego\", true));\n",
        "        workers.add(new Worker(\"Ellen Xu\", Arrays.asList(\"Python, Java\"), \"Sacramento, California\", true));\n",
        "        workers.add(new Worker(\"Joseph Youm\", Arrays.asList(\"Javascript, HTML, Go, C#, C++\"), \"San Diego\", true));\n",
        "        workers.add(new Worker(\"Alex Xiao\", Arrays.asList(\"Javascript, HTML\"), \"Pittsburgh, Pennsylvania\", true));\n",
        "        workers.add(new Worker(\"Amanda Yang\", Arrays.asList(\"Python\"), \"Austin, Texas\", true));\n",
        "        workers.add(\n",
        "                new Worker(\"Ellen Kang\", Arrays.asList(\"Java, C++, Matlab, HTML\"), \"Pittsburgh, Pennsylvania\", true));\n",
        "        workers.add(new Worker(\"Brian J. Wang\", Arrays.asList(\"PHP, Python, Java, C++, Matlab, C, CSS, Ruby\"),\n",
        "                \"Pittsburgh, Pennsylvania\", false));\n",
        "        workers.add(new Worker(\"Amanda Wang\", Arrays.asList(\"Java, C++, Matlab, C\"), \"Pittsburgh, Pennsylvania\", true));\n",
        "        workers.add(new Worker(\"Haerin Lu\", Arrays.asList(\"C, E, PHP\"), \"Nashville, Tennessee\", true));\n",
        "        workers.add(new Worker(\"Allen Lu\", Arrays.asList(\"Python, E, PHP\"), \"Pittsburgh, Pennsylvania\", true));\n",
        "        workers.add(new Worker(\"Allen Xu\", Arrays.asList(\"PHP\"), \"Pittsburgh, Pennsylvania\", true));\n",
        "        workers.add(new Worker(\"Aidan Xu\", Arrays.asList(\"Python, Java, C++,C#,Go,Swift, Matlab, HTML,D\"),\n",
        "                \"Nashville, Tennessee\", true));\n",
        "        workers.add(new Worker(\"Andrea Park\", Arrays.asList(\"PHP, Java, C++, Javascript\", \"Ruby\", \"Go\"),\n",
        "                \"Ithaca, New York\", true));\n",
        "        workers.add(new Worker(\"Joshua Kim\", Arrays.asList(\"Java, C++\", \"Matlab\", \"Javascript\"),\n",
        "                \"Pittsburgh, Pennsylvania\", true));\n",
        "    }\n",
        "\n",
        "    // Endpoint to add a new worker to the list\n",
        "    @PostMapping(\"/add\")\n",
        "    public ResponseEntity<String> addWorker(@RequestBody Worker newWorker) {\n",
        "        workers.add(newWorker);\n",
        "        return ResponseEntity.ok(\"Worker added successfully\");\n",
        "    }\n",
        "\n",
        "    // Endpoint to find the most relevant worker using KNN\n",
        "    @PostMapping(\"/findMostRelevant\")\n",
        "    public ResponseEntity<Worker> findMostRelevantWorker(@RequestBody Worker newWorker,\n",
        "            @RequestParam int k) {\n",
        "        Worker mostRelevantWorker = KNNWorkerHiring.findMostRelevantWorker(workers, newWorker, k);\n",
        "        return ResponseEntity.ok(mostRelevantWorker);\n",
        "    }\n",
        "\n",
        "    // Endpoint to get all workers (for testing purposes)\n",
        "    @GetMapping(\"/allWorkers\")\n",
        "    public ResponseEntity<List<Worker>> getAllWorkers() {\n",
        "        return ResponseEntity.ok(workers);\n",
        "    }\n",
        "\n",
        "}\n",
        "```\n",
        "\n",
        "#### Description and Analysis\n",
        "The code operates on an ArrayList of workers, scanning through properties to find the most relevant worker, akin to FRQ's method acting on ArrayLists. Implementing an option to remove workers aligns with the FRQ's concept of modifying ArrayLists.\n",
        "\n",
        "In addition, the below method related to KNN also relates to FRQ #3 because it implements calculations on a multi-dimensional data structure.\n",
        "```java\n",
        "public static Worker findMostRelevantWorker(List<Worker> workers, Worker newWorker, int k) {\n",
        "        Map<Double, Worker> distanceMap = new HashMap<>();\n",
        "\n",
        "        // Calculate Euclidean distance for each worker\n",
        "        for (Worker worker : workers) {\n",
        "            double distance = calculateDistance(worker, newWorker);\n",
        "            distanceMap.put(distance, worker);\n",
        "        }\n",
        "\n",
        "        // Sort distances and get the top k neighbors\n",
        "        List<Double> distances = new ArrayList<>(distanceMap.keySet());\n",
        "        Collections.sort(distances);\n",
        "\n",
        "        // Return the most relevant worker\n",
        "        return distanceMap.get(distances.get(0));\n",
        "    }\n",
        "```"
      ],
      "metadata": {
        "id": "Ce744XjN4y4T"
      }
    }
  ],
  "metadata": {
    "kernelspec": {
      "display_name": "Java",
      "language": "java",
      "name": "java"
    },
    "language_info": {
      "codemirror_mode": "java",
      "file_extension": ".jshell",
      "mimetype": "text/x-java-source",
      "name": "Java",
      "pygments_lexer": "java",
      "version": "16.0.1+9-Ubuntu-120.04"
    },
    "colab": {
      "provenance": []
    }
  },
  "nbformat": 4,
  "nbformat_minor": 0
}
