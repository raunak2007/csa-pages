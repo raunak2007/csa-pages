{
  "cells": [
    {
      "cell_type": "code",
      "execution_count": null,
      "metadata": {
        "vscode": {
          "languageId": "java"
        },
        "id": "kHzg7N_4_OVP",
        "outputId": "dde66992-2c0d-4c56-b404-b3679fd84d4b"
      },
      "outputs": [
        {
          "name": "stdout",
          "output_type": "stream",
          "text": [
            "Hello, World!\n"
          ]
        }
      ],
      "source": [
        "import java.util.Scanner;\n",
        "\n",
        "public class HangmanGame {\n",
        "    public static void main(String[] args) {\n",
        "        Scanner scanner = new Scanner(System.in);\n",
        "\n",
        "        String[] words = {\"apple\", \"banana\", \"cherry\", \"grape\", \"orange\"};\n",
        "        String wordToGuess = words[(int) (Math.random() * words.length)];\n",
        "        int maxGuesses = 6;\n",
        "        int incorrectGuesses = 0;\n",
        "        StringBuilder guessedWord = new StringBuilder();\n",
        "\n",
        "        for (int i = 0; i < wordToGuess.length(); i++) {\n",
        "            guessedWord.append('_');\n",
        "        }\n",
        "\n",
        "        while (incorrectGuesses < maxGuesses && guessedWord.toString().contains(\"_\")) {\n",
        "            System.out.println(\"Guess the word: \" + guessedWord);\n",
        "            System.out.print(\"Enter a letter: \");\n",
        "            char guess = scanner.next().charAt(0);\n",
        "            boolean found = false;\n",
        "\n",
        "            for (int i = 0; i < wordToGuess.length(); i++) {\n",
        "                if (wordToGuess.charAt(i) == guess) {\n",
        "                    guessedWord.setCharAt(i, guess);\n",
        "                    found = true;\n",
        "                }\n",
        "            }\n",
        "\n",
        "            if (!found) {\n",
        "                incorrectGuesses++;\n",
        "                System.out.println(\"Incorrect guesses: \" + incorrectGuesses);\n",
        "            }\n",
        "        }\n",
        "\n",
        "        if (guessedWord.toString().equals(wordToGuess)) {\n",
        "            System.out.println(\"Congratulations! You guessed the word: \" + wordToGuess);\n",
        "        } else {\n",
        "            System.out.println(\"Sorry, you're out of guesses. The word was: \" + wordToGuess);\n",
        "        }\n",
        "\n",
        "        scanner.close();\n",
        "    }\n",
        "}"
      ]
    }
  ],
  "metadata": {
    "kernelspec": {
      "display_name": "Java",
      "language": "java",
      "name": "java"
    },
    "language_info": {
      "codemirror_mode": "java",
      "file_extension": ".jshell",
      "mimetype": "text/x-java-source",
      "name": "Java",
      "pygments_lexer": "java",
      "version": "17.0.8+7-Ubuntu-120.04.2"
    },
    "orig_nbformat": 4,
    "colab": {
      "provenance": []
    }
  },
  "nbformat": 4,
  "nbformat_minor": 0
}