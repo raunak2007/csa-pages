{
  "cells": [
    {
      "cell_type": "code",
      "execution_count": null,
      "metadata": {
        "vscode": {
          "languageId": "java"
        },
        "id": "kHzg7N_4_OVP",
        "outputId": "dde66992-2c0d-4c56-b404-b3679fd84d4b"
      },
      "outputs": [
        {
          "name": "stdout",
          "output_type": "stream",
          "text": [
            "Generated random number: 42\n"
          ]
        }
      ],
      "source": [
        "import java.util.Random;\n",
        "\n",
        "public class SingleRandomNumberGenerator {\n",
        "    public static void main(String[] args) {\n",
        "        Random random = new Random();\n",
        "\n",
        "        // Generate a random number between 1 and 100\n",
        "        int randomNumber = random.nextInt(100) + 1;\n",
        "\n",
        "        System.out.println(\"Generated random number: \" + randomNumber);\n",
        "    }\n",
        "}"
      ]
    }
  ],
  "metadata": {
    "kernelspec": {
      "display_name": "Java",
      "language": "java",
      "name": "java"
    },
    "language_info": {
      "codemirror_mode": "java",
      "file_extension": ".jshell",
      "mimetype": "text/x-java-source",
      "name": "Java",
      "pygments_lexer": "java",
      "version": "17.0.8+7-Ubuntu-120.04.2"
    },
    "orig_nbformat": 4,
    "colab": {
      "provenance": []
    }
  },
  "nbformat": 4,
  "nbformat_minor": 0
}
