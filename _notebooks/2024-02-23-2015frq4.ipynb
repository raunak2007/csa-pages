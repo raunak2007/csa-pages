{
  "cells": [
    {
      "cell_type": "markdown",
      "metadata": {
        "id": "AtGPKcswhZvy"
      },
      "source": [
        "---\n",
        "layout: post\n",
        "title: 2015 FRQ Question 4\n",
        "toc: true\n",
        "comments: true\n",
        "description: Methods and Control Structures\n",
        "courses: { csa: {week: 24} }\n",
        "type: tangibles\n",
        "---"
      ]
    },
    {
      "cell_type": "markdown",
      "metadata": {
        "id": "-QF2XCzQhZvz"
      },
      "source": [
        "# Question 4: Methods and Control Structures\n",
        "## 4a"
      ]
    },
    {
      "cell_type": "markdown",
      "metadata": {
        "id": "t0OM7kDGhZvz"
      },
      "source": [
        "PART A: A number group represents a group of integers defined in some way. It could be empty, or it could contain one or more integers.\n",
        "\n",
        "Write an interface named NumberGroup that represents a group of integers. The interface should have a single contains method that determines if a given integer is in the group. For example, if group1 is of type NumberGroup, and it contains only the two numbers -5 and 3, then group1.contains(-5) would return true, and group1.contains(2) would return false.\n",
        "Write the complete NumberGroup interface. It must have exactly one method."
      ]
    },
    {
      "cell_type": "code",
      "execution_count": null,
      "metadata": {
        "vscode": {
          "languageId": "java"
        },
        "id": "j-rEvJRehZv0",
        "outputId": "ac50e927-f8de-4c4a-db7d-8856406bfdb4"
      },
      "outputs": [
        {
          "name": "stdout",
          "output_type": "stream",
          "text": [
            "true\n",
            "false\n"
          ]
        }
      ],
      "source": [
        "import java.util.Arrays;\n",
        "import java.util.List;\n",
        "\n",
        "public class Main {\n",
        "    public static void main(String[] args) {\n",
        "        NumberGroup group1 = new IntegerList(Arrays.asList(100, 200));\n",
        "        System.out.println(group1.contains(100)); // true\n",
        "        System.out.println(group1.contains(300));  // false\n",
        "    }\n",
        "\n",
        "    // specific interface it is asking for part a\n",
        "    public interface NumberGroup {\n",
        "        boolean contains(int num);\n",
        "    }\n",
        "\n",
        "    public static class IntegerList implements NumberGroup {\n",
        "        private List<Integer> numbers;\n",
        "\n",
        "        public IntegerList(List<Integer> numbers) {\n",
        "            this.numbers = numbers;\n",
        "        }\n",
        "\n",
        "        @Override\n",
        "        public boolean contains(int num) {\n",
        "            return numbers.contains(num);\n",
        "        }\n",
        "    }\n",
        "}\n",
        "\n",
        "Main.main(null);"
      ]
    },
    {
      "cell_type": "markdown",
      "metadata": {
        "id": "tmNYgQcshZv0"
      },
      "source": [
        "## 4b\n",
        "\n",
        "PART B: A range represents a number group that contains all (and only) the integers between a minimum value and a maximum value, inclusive.\n",
        "Write the Range class, which is a NumberGroup. The Range class represents the group of int values that range from a given minimum value up through a given maximum value, inclusive. For example, the declaration\n",
        "\n",
        "NumberGroup range1 = new Range(-3, 2);\n",
        "\n",
        "represents the group of integer values -3, -2, -1, 0, 1, 2.\n",
        "\n",
        "Write the complete Range class. Include all necessary instance variables and methods as well as a constructor that takes two int parameters. The first parameter represents the minimum value, and the second parameter represents the maximum value of the range. You may assume that the minimum is less than or equal to the maximum."
      ]
    },
    {
      "cell_type": "code",
      "execution_count": null,
      "metadata": {
        "vscode": {
          "languageId": "java"
        },
        "id": "mPQwpzcDhZv0",
        "outputId": "d95aab47-25d8-4397-de87-42cf500ca5c7"
      },
      "outputs": [
        {
          "name": "stdout",
          "output_type": "stream",
          "text": [
            "true\n",
            "true\n",
            "false\n"
          ]
        }
      ],
      "source": [
        "public class Main {\n",
        "    public static void main(String[] args) {\n",
        "        NumberGroup range1 = new Range(100, 200);\n",
        "        System.out.println(range1.contains(150)); // true\n",
        "        System.out.println(range1.contains(175));  // true\n",
        "        System.out.println(range1.contains(300));  // false\n",
        "    }\n",
        "\n",
        "    // from part A\n",
        "    public interface NumberGroup {\n",
        "        boolean contains(int num);\n",
        "    }\n",
        "\n",
        "    public class Range implements NumberGroup {\n",
        "      private int min;\n",
        "      private int max;\n",
        "\n",
        "      public Range(int min, int max) {\n",
        "        this.min = min;\n",
        "        this.max = max;\n",
        "      }\n",
        "\n",
        "      @Override\n",
        "      public boolean contains(int number) {\n",
        "        return number >= min && number <= max;\n",
        "      }\n",
        "  }\n",
        "}\n",
        "\n",
        "Main.main(null);\n"
      ]
    },
    {
      "cell_type": "markdown",
      "metadata": {
        "id": "Ihwls2uMhZv0"
      },
      "source": [
        "## 4c\n",
        "\n",
        "PART C: The MultipleGroups class (not shown) represents a collection of NumberGroup objects and isa NumberGroup. The MultipleGroups class stores the number groups in the instance variable groupList (shown below), which is initialized in the constructor.\n",
        "\n",
        "private List<NumberGroup> groupList;\n",
        "\n",
        "Write the MultipleGroups method contains. The method takes an integer and returns true if and only if the integer is contained in one or more of the number groups in groupList.\n",
        "\n",
        "For example, suppose multiple1 has been declared as an instance of MultipleGroups and consists of the three ranges created by the calls new Range(5, 8), new Range(10, 12), and new Range(1, 6). The following table shows the results of several calls to contains."
      ]
    },
    {
      "cell_type": "code",
      "execution_count": null,
      "metadata": {
        "vscode": {
          "languageId": "java"
        },
        "id": "KM7txWsWhZv0",
        "outputId": "2d81e308-1cbe-4027-848d-3673f91f9a7d"
      },
      "outputs": [
        {
          "name": "stdout",
          "output_type": "stream",
          "text": [
            "true\n",
            "false\n",
            "true\n"
          ]
        }
      ],
      "source": [
        "import java.util.ArrayList;\n",
        "import java.util.List;\n",
        "\n",
        "public class Main {\n",
        "    public static void main(String[] args) {\n",
        "        List<NumberGroup> groups = new ArrayList<>();\n",
        "        groups.add(new Range(100, 200));\n",
        "        groups.add(new Range(300, 400));\n",
        "        groups.add(new Range(500, 600));\n",
        "\n",
        "        MultipleGroups multiple1 = new MultipleGroups(groups);\n",
        "\n",
        "        System.out.println(multiple1.contains(150)); // true\n",
        "        System.out.println(multiple1.contains(250)); // false\n",
        "        System.out.println(multiple1.contains(550)); // true\n",
        "    }\n",
        "\n",
        "    // from part A\n",
        "    public interface NumberGroup {\n",
        "        boolean contains(int num);\n",
        "    }\n",
        "\n",
        "    // from part B\n",
        "    public static class Range implements NumberGroup {\n",
        "        private int min;\n",
        "        private int max;\n",
        "\n",
        "        public Range(int min, int max) {\n",
        "            this.min = min;\n",
        "            this.max = max;\n",
        "        }\n",
        "\n",
        "        @Override\n",
        "        public boolean contains(int num) {\n",
        "            return num >= min && num <= max;\n",
        "        }\n",
        "    }\n",
        "\n",
        "    public static class MultipleGroups implements NumberGroup {\n",
        "        private List<NumberGroup> groupList;\n",
        "\n",
        "        public MultipleGroups(List<NumberGroup> groupList) {\n",
        "            this.groupList = groupList;\n",
        "        }\n",
        "\n",
        "        public boolean contains(int num) {\n",
        "            for (NumberGroup group : groupList) {\n",
        "                if (group.contains(num)) {\n",
        "                    return true;\n",
        "                }\n",
        "            }\n",
        "            return false;\n",
        "        }\n",
        "    }\n",
        "}\n",
        "\n",
        "Main.main(null);"
      ]
    },
    {
      "cell_type": "markdown",
      "source": [
        "### PersonJpaRepository (this code is related to this frq)\n",
        "```java\n",
        "package com.nighthawk.spring_portfolio.mvc.person;\n",
        "\n",
        "import org.springframework.data.jpa.repository.JpaRepository;\n",
        "import org.springframework.data.jpa.repository.Query;\n",
        "\n",
        "import java.util.List;\n",
        "\n",
        "/*\n",
        "Extends the JpaRepository interface from Spring Data JPA.\n",
        "-- Java Persistent API (JPA) - Hibernate: map, store, update and retrieve database\n",
        "-- JpaRepository defines standard CRUD methods\n",
        "-- Via JPA the developer can retrieve database from relational databases to Java objects and vice versa.\n",
        " */\n",
        "public interface PersonJpaRepository extends JpaRepository<Person, Long> {\n",
        "    Person findByEmail(String email);\n",
        "\n",
        "    List<Person> findAllByOrderByNameAsc();\n",
        "\n",
        "    // JPA query, findBy does JPA magic with \"Name\", \"Containing\", \"Or\", \"Email\", \"IgnoreCase\"\n",
        "    List<Person> findByNameContainingIgnoreCaseOrEmailContainingIgnoreCase(String name, String email);\n",
        "\n",
        "    /* Custom JPA query articles, there are articles that show custom SQL as well\n",
        "       https://springframework.guru/spring-data-jpa-query/\n",
        "       https://docs.spring.io/spring-data/jpa/docs/current/reference/html/#jpa.query-methods\n",
        "    */\n",
        "    Person findByEmailAndPassword(String email, String password);\n",
        "\n",
        "    // Custom JPA query\n",
        "    @Query(\n",
        "            value = \"SELECT * FROM Person p WHERE p.name LIKE ?1 or p.email LIKE ?1\",\n",
        "            nativeQuery = true)\n",
        "    List<Person> findByLikeTermNative(String term);\n",
        "    /*\n",
        "      https://www.baeldung.com/spring-data-jpa-query\n",
        "    */\n",
        "}\n",
        "```"
      ],
      "metadata": {
        "id": "lPqt4G0i0aSZ"
      }
    }
  ],
  "metadata": {
    "kernelspec": {
      "display_name": "Java",
      "language": "java",
      "name": "java"
    },
    "language_info": {
      "codemirror_mode": "java",
      "file_extension": ".jshell",
      "mimetype": "text/x-java-source",
      "name": "Java",
      "pygments_lexer": "java",
      "version": "16.0.1+9-Ubuntu-120.04"
    },
    "colab": {
      "provenance": []
    }
  },
  "nbformat": 4,
  "nbformat_minor": 0
}
