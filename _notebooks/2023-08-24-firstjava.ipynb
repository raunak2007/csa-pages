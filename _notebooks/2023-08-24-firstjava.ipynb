{
  "cells": [
    {
      "cell_type": "markdown",
      "metadata": {
        "id": "d7AeW_5yaf9l"
      },
      "source": [
        "---\n",
        "toc: true\n",
        "comments: true\n",
        "layout: post\n",
        "title: First Java Notebook\n",
        "description: My first java notebook. Hello World!\n",
        "courses: { csa: {week: 1} }\n",
        "type: hacks\n",
        "---"
      ]
    },
    {
      "cell_type": "markdown",
      "source": [
        "# Statistical Analysis of a Dataset\n",
        "\n",
        "This markdown file provides an explanation of the Java code that performs various statistical calculations on a dataset of numbers. The code calculates and prints the following statistics: mean, median, mode, standard deviation, first quartile (Q1), third quartile (Q3), and interquartile range (IQR).\n",
        "\n",
        "## Concepts and Tools Used\n",
        "\n",
        "### 1. Functions\n",
        "- The code uses several functions to calculate statistical measures:\n",
        "  - `mean(int[] numbers)`: Calculates the mean (average) of the dataset.\n",
        "  - `median(int[] numbers)`: Calculates the median (middle value) of the dataset.\n",
        "  - `mode(int[] numbers)`: Calculates the mode (most frequently occurring value) of the dataset.\n",
        "  - `standardDeviation(int[] numbers)`: Calculates the standard deviation, a measure of data dispersion.\n",
        "  - `firstQuartile(int[] numbers)`: Calculates the first quartile (Q1) or 25th percentile.\n",
        "  - `thirdQuartile(int[] numbers)`: Calculates the third quartile (Q3) or 75th percentile.\n",
        "  - `interquartileRange(int[] numbers)`: Calculates the interquartile range (IQR), Q3 - Q1.\n",
        "\n",
        "### 2. Array Manipulation\n",
        "- The code manipulates arrays to sort and extract subsets of the dataset for quartile calculations.\n",
        "\n",
        "### 3. User Input and Output\n",
        "- The code prompts the user to enter a comma-separated list of numbers.\n",
        "- The input is split and converted into an integer array for calculations.\n",
        "- The calculated statistics are printed to the console.\n",
        "\n",
        "## Running the Code\n",
        "\n",
        "1. Compile and run the Java program.\n",
        "2. Enter a comma-separated list of numbers (e.g., `10, 15, 20, 25, 30, 35, 40, 45, 50, 55, 60`).\n",
        "\n",
        "## Output Explanation\n",
        "\n",
        "Suppose the user enters the dataset `10, 15, 20, 25, 30, 35, 40, 45, 50, 55, 60`. The code calculates the statistics as follows:\n",
        "\n",
        "- Mean: 35.0\n",
        "- Median: 35.0\n",
        "- Mode: -1 (No single mode)\n",
        "- Standard Deviation: 18.257418583505537\n",
        "- Q1: 20.0\n",
        "- Q3: 50.0\n",
        "- IQR: 30.0\n",
        "\n",
        "The output provides insights into the central tendency, dispersion, and distribution of the dataset.\n"
      ],
      "metadata": {
        "id": "2AnphYxcdFm0"
      }
    },
    {
      "cell_type": "code",
      "execution_count": null,
      "metadata": {
        "id": "p8l_MZVzaf9m",
        "outputId": "5dcc3c0a-f147-4560-fd9b-6638449e29c6"
      },
      "outputs": [
        {
          "name": "stdout",
          "output_type": "stream",
          "text": [
            "Hello World!\n"
          ]
        }
      ],
      "source": [
        "// Define Static Method within a Class\n",
        "public class HelloStatic {\n",
        "    // Java standard runtime entry point\n",
        "    public static void main(String[] args) {\n",
        "        System.out.println(\"Hello World!\");\n",
        "    }\n",
        "}\n",
        "// A method call allows us to execute code that is wrapped in Class\n",
        "HelloStatic.main(null);   // Class prefix allows reference of Static Method"
      ]
    },
    {
      "cell_type": "code",
      "execution_count": null,
      "metadata": {
        "id": "si9e9Io7af9o",
        "outputId": "48f40e5b-f4a8-4a6e-b3de-c6dc1e2fdaa8"
      },
      "outputs": [
        {
          "name": "stdout",
          "output_type": "stream",
          "text": [
            "Hello, World!\n"
          ]
        }
      ],
      "source": [
        "// Define Class with Constructor returning Object\n",
        "public class HelloObject {\n",
        "    private String hello;   // instance attribute or variable\n",
        "    public HelloObject() {  // constructor\n",
        "        hello = \"Hello, World!\";\n",
        "    }\n",
        "    public String getHello() {  // getter, returns value from inside the object\n",
        "        return this.hello;  // return String from object\n",
        "    }\n",
        "    public static void main(String[] args) {\n",
        "        HelloObject ho = new HelloObject(); // Instance of Class (ho) is an Object via \"new HelloObject()\"\n",
        "        System.out.println(ho.getHello()); // Object allows reference to public methods and data\n",
        "    }\n",
        "}\n",
        "// IJava activation\n",
        "HelloObject.main(null);\n"
      ]
    },
    {
      "cell_type": "code",
      "execution_count": null,
      "metadata": {
        "id": "63IYK20qaf9o",
        "outputId": "01cde9ec-8f66-4598-9946-d474ef58762b"
      },
      "outputs": [
        {
          "name": "stdout",
          "output_type": "stream",
          "text": [
            "Hello, World!\n",
            "Hello, Nighthawk Coding Society!\n"
          ]
        }
      ],
      "source": [
        "\n",
        "\n",
        "// Define Class\n",
        "public class HelloDynamic { // name the first letter of class as capitalized, note camel case\n",
        "    // instance variable have access modifier (private is most common), data type, and name\n",
        "    private String hello;\n",
        "    // constructor signature 1, public and zero arguments, constructors do not have return type\n",
        "    public HelloDynamic() {  // 0 argument constructor\n",
        "        this.setHello(\"Hello, World!\");  // using setter with static string\n",
        "    }\n",
        "    // constructor signature, public and one argument\n",
        "    public HelloDynamic(String hello) { // 1 argument constructor\n",
        "        this.setHello(hello);   // using setter with local variable passed into constructor\n",
        "    }\n",
        "    // setter/mutator, setter have void return type and a parameter\n",
        "    public void setHello(String hello) { // setter\n",
        "        this.hello = hello;     // instance variable on the left, local variable on the right\n",
        "    }\n",
        "    // getter/accessor, getter used to return private instance variable (encapsulated), return type is String\n",
        "    public String getHello() {  // getter\n",
        "        return this.hello;\n",
        "    }\n",
        "    // public static void main(String[] args) is signature for main/drivers/tester method\n",
        "    // a driver/tester method is singular or called a class method, it is never part of an object\n",
        "    public static void main(String[] args) {\n",
        "        HelloDynamic hd1 = new HelloDynamic(); // no argument constructor\n",
        "        HelloDynamic hd2 = new HelloDynamic(\"Hello, Nighthawk Coding Society!\"); // one argument constructor\n",
        "        System.out.println(hd1.getHello()); // accessing getter\n",
        "        System.out.println(hd2.getHello());\n",
        "    }\n",
        "}\n",
        "// IJava activation\n",
        "HelloDynamic.main(null);\n"
      ]
    },
    {
      "cell_type": "code",
      "execution_count": null,
      "metadata": {
        "id": "nm28ramdaf9p"
      },
      "outputs": [],
      "source": [
        "public class Person {\n",
        "    private String name;\n",
        "\n",
        "    // Setter method for name\n",
        "    public void setName(String name) {\n",
        "        this.name = name;\n",
        "    }\n",
        "\n",
        "    // Getter method for name\n",
        "    public String getName() {\n",
        "        return name;\n",
        "    }\n",
        "\n",
        "    public static void main(String[] args) {\n",
        "        Person person = new Person();\n",
        "        person.setName(\"John\");\n",
        "        System.out.println(\"Name: \" + person.getName());\n",
        "    }\n",
        "}"
      ]
    },
    {
      "cell_type": "code",
      "execution_count": null,
      "metadata": {
        "id": "7s-xrK8Maf9p",
        "outputId": "7479f255-815e-452d-e341-dc9b013b31e5"
      },
      "outputs": [
        {
          "name": "stdout",
          "output_type": "stream",
          "text": [
            "Enter a comma-separated list of numbers:\n",
            "Mean: 4.571428571428571\n",
            "Median: 5.0\n",
            "Mode: 5\n",
            "Standard Deviation: 18.257418583505537:\n",
            "Q1: 20.0",
            "Q3: 50.0",
            "IQR: 30.0"
          ]
        }
      ],
      "source": [
        "import java.util.Arrays;\n",
        "import java.util.HashMap;\n",
        "import java.util.Map;\n",
        "import java.util.Map.Entry;\n",
        "import java.util.Scanner;\n",
        "\n",
        "// Method to calculate the mean\n",
        "double mean(int[] numbers) {\n",
        "    double sum = 0;\n",
        "    for (int num : numbers) {\n",
        "        sum += num;\n",
        "    }\n",
        "    return sum / numbers.length;\n",
        "}\n",
        "\n",
        "// Method to calculate the median\n",
        "double median(int[] numbers) {\n",
        "    Arrays.sort(numbers);\n",
        "    int middle = numbers.length / 2;\n",
        "    if (numbers.length % 2 == 0) {\n",
        "        return (numbers[middle - 1] + numbers[middle]) / 2.0;\n",
        "    } else {\n",
        "        return numbers[middle];\n",
        "    }\n",
        "}\n",
        "\n",
        "// Method to calculate the mode\n",
        "int mode(int[] numbers) {\n",
        "    Map<Integer, Integer> countMap = new HashMap<>();\n",
        "    for (int num : numbers) {\n",
        "        countMap.put(num, countMap.getOrDefault(num, 0) + 1);\n",
        "    }\n",
        "\n",
        "    int maxCount = 0;\n",
        "    int mode = -1;\n",
        "    for (Entry<Integer, Integer> entry : countMap.entrySet()) {\n",
        "        if (entry.getValue() > maxCount) {\n",
        "            maxCount = entry.getValue();\n",
        "            mode = entry.getKey();\n",
        "        }\n",
        "    }\n",
        "    return mode;\n",
        "}\n",
        "\n",
        "Scanner scanner = new Scanner(System.in);\n",
        "System.out.println(\"Enter a comma-separated list of numbers:\");\n",
        "String input = scanner.nextLine();\n",
        "String[] numberStrings = input.split(\",\");\n",
        "int[] numbers = new int[numberStrings.length];\n",
        "for (int i = 0; i < numberStrings.length; i++) {\n",
        "    numbers[i] = Integer.parseInt(numberStrings[i].trim());\n",
        "}\n",
        "\n",
        "System.out.println(\"Mean: \" + mean(numbers));\n",
        "System.out.println(\"Median: \" + median(numbers));\n",
        "System.out.println(\"Mode: \" + mode(numbers));\n",
        "\n",
        "import java.util.Arrays;\n",
        "\n",
        "// ... (Rest of the code)\n",
        "\n",
        "// Method to calculate the standard deviation\n",
        "double standardDeviation(int[] numbers) {\n",
        "    double mean = mean(numbers);\n",
        "    double sumSquaredDifferences = 0;\n",
        "    for (int num : numbers) {\n",
        "        double difference = num - mean;\n",
        "        sumSquaredDifferences += difference * difference;\n",
        "    }\n",
        "    double variance = sumSquaredDifferences / numbers.length;\n",
        "    return Math.sqrt(variance);\n",
        "}\n",
        "\n",
        "// Method to calculate the first quartile (Q1)\n",
        "double firstQuartile(int[] numbers) {\n",
        "    Arrays.sort(numbers);\n",
        "    int middle = numbers.length / 2;\n",
        "    int[] lowerHalf = Arrays.copyOfRange(numbers, 0, middle);\n",
        "    return median(lowerHalf);\n",
        "}\n",
        "\n",
        "// Method to calculate the third quartile (Q3)\n",
        "double thirdQuartile(int[] numbers) {\n",
        "    Arrays.sort(numbers);\n",
        "    int middle = numbers.length / 2;\n",
        "    int startIndex = numbers.length % 2 == 0 ? middle : middle + 1;\n",
        "    int[] upperHalf = Arrays.copyOfRange(numbers, startIndex, numbers.length);\n",
        "    return median(upperHalf);\n",
        "}\n",
        "\n",
        "// Method to calculate the interquartile range (IQR)\n",
        "double interquartileRange(int[] numbers) {\n",
        "    return thirdQuartile(numbers) - firstQuartile(numbers);\n",
        "}\n",
        "\n",
        "// ... (Rest of the code)\n",
        "\n",
        "System.out.println(\"Standard Deviation: \" + standardDeviation(numbers));\n",
        "System.out.println(\"Q1: \" + firstQuartile(numbers));\n",
        "System.out.println(\"Q3: \" + thirdQuartile(numbers));\n",
        "System.out.println(\"IQR: \" + interquartileRange(numbers));"
      ]
    }
  ],
  "metadata": {
    "kernelspec": {
      "display_name": "Java",
      "language": "java",
      "name": "java"
    },
    "language_info": {
      "codemirror_mode": "java",
      "file_extension": ".jshell",
      "mimetype": "text/x-java-source",
      "name": "java",
      "pygments_lexer": "java",
      "version": "11.0.20+8-post-Ubuntu-1ubuntu120.04"
    },
    "orig_nbformat": 4,
    "colab": {
      "provenance": []
    }
  },
  "nbformat": 4,
  "nbformat_minor": 0
}
