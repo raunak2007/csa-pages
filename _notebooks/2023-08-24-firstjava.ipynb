{
 "cells": [
  {
   "cell_type": "markdown",
   "metadata": {},
   "source": [
    "---\n",
    "toc: true\n",
    "comments: true\n",
    "layout: post\n",
    "title: First Java Notebook\n",
    "description: My first java notebook. Hello World!\n",
    "courses: { csp: {week: 0} }\n",
    "type: hacks\n",
    "---"
   ]
  },
  {
   "cell_type": "code",
   "execution_count": 5,
   "metadata": {},
   "outputs": [
    {
     "name": "stdout",
     "output_type": "stream",
     "text": [
      "Hello World!\n"
     ]
    }
   ],
   "source": [
    "// Define Static Method within a Class\n",
    "public class HelloStatic {\n",
    "    // Java standard runtime entry point\n",
    "    public static void main(String[] args) {    \n",
    "        System.out.println(\"Hello World!\");\n",
    "    }\n",
    "}\n",
    "// A method call allows us to execute code that is wrapped in Class\n",
    "HelloStatic.main(null);   // Class prefix allows reference of Static Method"
   ]
  },
  {
   "cell_type": "code",
   "execution_count": 8,
   "metadata": {},
   "outputs": [
    {
     "name": "stdout",
     "output_type": "stream",
     "text": [
      "Hello, World!\n"
     ]
    }
   ],
   "source": [
    "// Define Class with Constructor returning Object\n",
    "public class HelloObject {\n",
    "    private String hello;   // instance attribute or variable\n",
    "    public HelloObject() {  // constructor\n",
    "        hello = \"Hello, World!\";\n",
    "    }\n",
    "    public String getHello() {  // getter, returns value from inside the object\n",
    "        return this.hello;  // return String from object\n",
    "    }\n",
    "    public static void main(String[] args) {    \n",
    "        HelloObject ho = new HelloObject(); // Instance of Class (ho) is an Object via \"new HelloObject()\"\n",
    "        System.out.println(ho.getHello()); // Object allows reference to public methods and data\n",
    "    }\n",
    "}\n",
    "// IJava activation\n",
    "HelloObject.main(null);\n"
   ]
  },
  {
   "cell_type": "code",
   "execution_count": 9,
   "metadata": {},
   "outputs": [
    {
     "name": "stdout",
     "output_type": "stream",
     "text": [
      "Hello, World!\n",
      "Hello, Nighthawk Coding Society!\n"
     ]
    }
   ],
   "source": [
    "\n",
    "\n",
    "// Define Class\n",
    "public class HelloDynamic { // name the first letter of class as capitalized, note camel case\n",
    "    // instance variable have access modifier (private is most common), data type, and name\n",
    "    private String hello;\n",
    "    // constructor signature 1, public and zero arguments, constructors do not have return type\n",
    "    public HelloDynamic() {  // 0 argument constructor\n",
    "        this.setHello(\"Hello, World!\");  // using setter with static string\n",
    "    }\n",
    "    // constructor signature, public and one argument\n",
    "    public HelloDynamic(String hello) { // 1 argument constructor\n",
    "        this.setHello(hello);   // using setter with local variable passed into constructor\n",
    "    }\n",
    "    // setter/mutator, setter have void return type and a parameter\n",
    "    public void setHello(String hello) { // setter\n",
    "        this.hello = hello;     // instance variable on the left, local variable on the right\n",
    "    }\n",
    "    // getter/accessor, getter used to return private instance variable (encapsulated), return type is String\n",
    "    public String getHello() {  // getter\n",
    "        return this.hello;\n",
    "    }\n",
    "    // public static void main(String[] args) is signature for main/drivers/tester method\n",
    "    // a driver/tester method is singular or called a class method, it is never part of an object\n",
    "    public static void main(String[] args) {  \n",
    "        HelloDynamic hd1 = new HelloDynamic(); // no argument constructor\n",
    "        HelloDynamic hd2 = new HelloDynamic(\"Hello, Nighthawk Coding Society!\"); // one argument constructor\n",
    "        System.out.println(hd1.getHello()); // accessing getter\n",
    "        System.out.println(hd2.getHello()); \n",
    "    }\n",
    "}\n",
    "// IJava activation\n",
    "HelloDynamic.main(null);\n"
   ]
  },
  {
   "cell_type": "code",
   "execution_count": 10,
   "metadata": {},
   "outputs": [],
   "source": [
    "public class Person {\n",
    "    private String name;\n",
    "\n",
    "    // Setter method for name\n",
    "    public void setName(String name) {\n",
    "        this.name = name;\n",
    "    }\n",
    "\n",
    "    // Getter method for name\n",
    "    public String getName() {\n",
    "        return name;\n",
    "    }\n",
    "\n",
    "    public static void main(String[] args) {\n",
    "        Person person = new Person();\n",
    "        person.setName(\"John\");\n",
    "        System.out.println(\"Name: \" + person.getName());\n",
    "    }\n",
    "}"
   ]
  },
  {
   "cell_type": "code",
   "execution_count": 16,
   "metadata": {},
   "outputs": [
    {
     "name": "stdout",
     "output_type": "stream",
     "text": [
      "Enter a comma-separated list of numbers:\n",
      "Mean: 4.571428571428571\n",
      "Median: 5.0\n",
      "Mode: 5\n"
     ]
    }
   ],
   "source": [
    "import java.util.Arrays;\n",
    "import java.util.HashMap;\n",
    "import java.util.Map;\n",
    "import java.util.Map.Entry;\n",
    "import java.util.Scanner;\n",
    "\n",
    "// Method to calculate the mean\n",
    "double mean(int[] numbers) {\n",
    "    double sum = 0;\n",
    "    for (int num : numbers) {\n",
    "        sum += num;\n",
    "    }\n",
    "    return sum / numbers.length;\n",
    "}\n",
    "\n",
    "// Method to calculate the median\n",
    "double median(int[] numbers) {\n",
    "    Arrays.sort(numbers);\n",
    "    int middle = numbers.length / 2;\n",
    "    if (numbers.length % 2 == 0) {\n",
    "        return (numbers[middle - 1] + numbers[middle]) / 2.0;\n",
    "    } else {\n",
    "        return numbers[middle];\n",
    "    }\n",
    "}\n",
    "\n",
    "// Method to calculate the mode\n",
    "int mode(int[] numbers) {\n",
    "    Map<Integer, Integer> countMap = new HashMap<>();\n",
    "    for (int num : numbers) {\n",
    "        countMap.put(num, countMap.getOrDefault(num, 0) + 1);\n",
    "    }\n",
    "\n",
    "    int maxCount = 0;\n",
    "    int mode = -1;\n",
    "    for (Entry<Integer, Integer> entry : countMap.entrySet()) {\n",
    "        if (entry.getValue() > maxCount) {\n",
    "            maxCount = entry.getValue();\n",
    "            mode = entry.getKey();\n",
    "        }\n",
    "    }\n",
    "    return mode;\n",
    "}\n",
    "\n",
    "Scanner scanner = new Scanner(System.in);\n",
    "System.out.println(\"Enter a comma-separated list of numbers:\");\n",
    "String input = scanner.nextLine();\n",
    "String[] numberStrings = input.split(\",\");\n",
    "int[] numbers = new int[numberStrings.length];\n",
    "for (int i = 0; i < numberStrings.length; i++) {\n",
    "    numbers[i] = Integer.parseInt(numberStrings[i].trim());\n",
    "}\n",
    "\n",
    "System.out.println(\"Mean: \" + mean(numbers));\n",
    "System.out.println(\"Median: \" + median(numbers));\n",
    "System.out.println(\"Mode: \" + mode(numbers));"
   ]
  }
 ],
 "metadata": {
  "kernelspec": {
   "display_name": "Java",
   "language": "java",
   "name": "java"
  },
  "language_info": {
   "codemirror_mode": "java",
   "file_extension": ".jshell",
   "mimetype": "text/x-java-source",
   "name": "java",
   "pygments_lexer": "java",
   "version": "11.0.20+8-post-Ubuntu-1ubuntu120.04"
  },
  "orig_nbformat": 4
 },
 "nbformat": 4,
 "nbformat_minor": 2
}
