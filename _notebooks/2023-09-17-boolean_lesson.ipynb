{
  "cells": [
    {
      "cell_type": "markdown",
      "metadata": {
        "id": "kif0G3UZnU1L"
      },
      "source": [
        "---\n",
        "layout: post\n",
        "title: U3 Boolean and If statements\n",
        "description: Lesson on booleans and if statements!\n",
        "comments: true\n",
        "courses: { csa: {week: 1} }\n",
        "type: lessons\n",
        "---"
      ]
    },
    {
      "cell_type": "markdown",
      "metadata": {
        "id": "vbpNrsS-nU1O"
      },
      "source": [
        "# APCSA Unit 3: College Board Learning Objectives and Standards\n",
        "\n",
        "## Learning Objectives\n",
        "\n",
        "The objective of today's lesson is to...\n",
        "\n",
        "- Evaluate Boolean expressions that use relational operators in program code\n",
        "\n",
        "## Essential Knowledge\n",
        "\n",
        "College Board wants you to know that...\n",
        "\n",
        "- Primitive values and reference values can be compared using relational operators (i.e., == and !=)\n",
        "- Arithmetic expression values can be compared using relational operators (such as <, >, <=, >=)\n",
        "- An expression involving relational operators evaluates to a Boolean value"
      ]
    },
    {
      "cell_type": "markdown",
      "metadata": {
        "id": "dc3OzYFAnU1P"
      },
      "source": [
        "## Warm Up\n",
        "\n",
        "Answer the following questions as a group or individually. Write down your answers in your hacks notebook.\n",
        "\n",
        "- What is a boolean?: **ANSWER: a variable that represents the condition of whether something is true or false**\n",
        "- What values can a boolean represent? How many?: **ANSWER: a boolean can represent two values, true and false**\n",
        "- What is an example of when we'd use a boolean?: **ANSWER: checking to see whether or not a user has given an input**"
      ]
    },
    {
      "cell_type": "markdown",
      "metadata": {
        "id": "6yw7IjuznU1P"
      },
      "source": [
        "## Recap on Booleans\n",
        "\n",
        "A boolean is a type of variable that can evaluate to true or false. In Java, there are various comparison operators that can be used in order to compare two values. **What are some**?\n",
        "\n",
        "The format is `val1 <oper> val2`, and will return a boolean given the state of the system. Like all booleans, this can only return two values `true` or `false`"
      ]
    },
    {
      "cell_type": "code",
      "execution_count": null,
      "metadata": {
        "vscode": {
          "languageId": "java"
        },
        "id": "4LbUOEv4nU1P",
        "outputId": "a5d99f4e-59c0-4806-fbdb-64e9972d7c0d"
      },
      "outputs": [
        {
          "name": "stdout",
          "output_type": "stream",
          "text": [
            "You are not an adult!\n",
            "false\n"
          ]
        }
      ],
      "source": [
        "public class Example {\n",
        "\n",
        "    private static boolean isAdult = false;\n",
        "    private static int myAge = 16;\n",
        "\n",
        "    public static void main(String [] args){\n",
        "\n",
        "        if(myAge >= 18){\n",
        "            System.out.println(\"You are an adult!\");\n",
        "            isAdult = true;\n",
        "        } else {\n",
        "            System.out.println(\"You are not an adult!\");\n",
        "        }\n",
        "\n",
        "        System.out.println(isAdult);\n",
        "    }\n",
        "}\n",
        "\n",
        "Example.main(null);"
      ]
    },
    {
      "cell_type": "markdown",
      "metadata": {
        "id": "GphVtDhrnU1Q"
      },
      "source": [
        "## Comparison Operators\n",
        "\n",
        "Whenever you want to make a boolean statement (such as setting a boolean to be true or false), you want to use the `\"=\"` or `\"!=\"` sign and not the `\"==\"` sign.\n",
        "\n",
        "On the other hand, if you are ever trying to compare String objects, use the String methods such as `.equals` or `.compareTo`, NOT the Boolean expressions mentioned above."
      ]
    },
    {
      "cell_type": "markdown",
      "metadata": {
        "id": "rRttVx7cnU1R"
      },
      "source": [
        "### Setup Class\n",
        "\n",
        "**Note the utilization of the `compareTo` in a custom class in order to compare two classes**"
      ]
    },
    {
      "cell_type": "code",
      "execution_count": null,
      "metadata": {
        "vscode": {
          "languageId": "java"
        },
        "id": "SVD4Ua-PnU1R"
      },
      "outputs": [],
      "source": [
        "public class ComparisonExample implements Comparable<ComparisonExample> {\n",
        "    private int comp;\n",
        "    private int comp2;\n",
        "\n",
        "    public ComparisonExample(int _comp, int _comp2) {\n",
        "        this.comp = _comp;\n",
        "        this.comp2 = _comp2;\n",
        "    }\n",
        "\n",
        "    @Override\n",
        "    public int compareTo(ComparisonExample s) {\n",
        "        return Integer.compare(this.comp, s.comp);\n",
        "    }\n",
        "\n",
        "    public static int compare(ComparisonExample a, ComparisonExample b)\n",
        "    {\n",
        "        if(Integer.compare(a.comp, b.comp)==0){\n",
        "            return Integer.compare(a.comp2, b.comp2);\n",
        "        }\n",
        "        else {\n",
        "            return Integer.compare(a.comp, b.comp);\n",
        "        }\n",
        "    }\n",
        "}"
      ]
    },
    {
      "cell_type": "markdown",
      "metadata": {
        "id": "XEyfek6anU1R"
      },
      "source": [
        "### Comparing using compareTo"
      ]
    },
    {
      "cell_type": "markdown",
      "metadata": {
        "id": "_eptfoCynU1R"
      },
      "source": [
        "Describe this code and the code above using comments. Talk about how we define the `compareTo` in the class definition and how that compares each instance of a class using a certain comparison variables. <br>\n",
        "<br>\n",
        "**In your notes** Compare and contrast `Comparator<>` and `compareTo`"
      ]
    },
    {
      "cell_type": "code",
      "execution_count": null,
      "metadata": {
        "vscode": {
          "languageId": "java"
        },
        "id": "E0D7kxQPnU1R",
        "outputId": "a51de7cc-bfcf-4a40-cf18-8a08fabdd427"
      },
      "outputs": [
        {
          "name": "stdout",
          "output_type": "stream",
          "text": [
            "0\n",
            "-1\n",
            "This is less than!\n"
          ]
        }
      ],
      "source": [
        "ComparisonExample c = new ComparisonExample(2, 2);\n",
        "ComparisonExample v = new ComparisonExample(2, 3);\n",
        "System.out.println(c.compareTo(v)); // Allows comparison of these two instances of a class\n",
        "System.out.println(ComparisonExample.compare(c, v)); // Also allows for the instances\n",
        "\n",
        "if(ComparisonExample.compare(c, v) < 0){ // Using the comparison\n",
        "    System.out.println(\"This is less than!\");\n",
        "}\n",
        "else { System.out.println(\"it is not\"); }"
      ]
    },
    {
      "cell_type": "markdown",
      "metadata": {
        "id": "p3HJsW9hnU1S"
      },
      "source": [
        "### Comparing using .equals\n",
        "\n",
        "You can use the .equals method to compare the contents of two strings. To test if the two strings are the same or not, you can use Sysout (System.out.println) so that the console will provide a value that is either true or false."
      ]
    },
    {
      "cell_type": "code",
      "execution_count": null,
      "metadata": {
        "vscode": {
          "languageId": "java"
        },
        "id": "xBWoXFGnnU1S",
        "outputId": "98520bd3-1e5b-48b8-aa3f-dbaf8be3417c"
      },
      "outputs": [
        {
          "name": "stdout",
          "output_type": "stream",
          "text": [
            "true\n",
            "false\n"
          ]
        }
      ],
      "source": [
        "System.out.println(\"hello\".equals(\"hello\")); // will return true, since the strings are the same\n",
        "System.out.println(\"Hello\".equals(\"hello\")); // will return false, as the one thing that separates these two strings is that the h is capitalized in the first string"
      ]
    },
    {
      "cell_type": "markdown",
      "metadata": {
        "id": "cwqq5JcLnU1S"
      },
      "source": [
        "### Comparing two arrays"
      ]
    },
    {
      "cell_type": "markdown",
      "metadata": {
        "id": "UR1iTBEmnU1S"
      },
      "source": [
        "The code below compares the contents of two arrays to see if they are equal. It uses the `equals` method. However, as we see below, this is rather shallow as opposed to deep comparison."
      ]
    },
    {
      "cell_type": "code",
      "execution_count": null,
      "metadata": {
        "vscode": {
          "languageId": "java"
        },
        "id": "8GKB3WVRnU1S",
        "outputId": "893e1087-9efa-4d67-879e-d00e8f195357"
      },
      "outputs": [
        {
          "name": "stdout",
          "output_type": "stream",
          "text": [
            "Same\n"
          ]
        }
      ],
      "source": [
        "  int arr1[] = { 1, 2, 3 };\n",
        "  int arr2[] = { 1, 2, 3 };\n",
        "\n",
        "  if (Arrays.equals(arr1, arr2)){\n",
        "\n",
        "      System.out.println(\"Same\");\n",
        "  }\n",
        "  else {\n",
        "\n",
        "\n",
        "      System.out.println(\"Not same\");\n",
        "  }\n"
      ]
    },
    {
      "cell_type": "markdown",
      "metadata": {
        "id": "y0lmM2oNnU1S"
      },
      "source": [
        "## Deep Equality\n",
        "\n",
        "All of the methods you just saw are examples of **regular equality.** Whereas regular equality methods such as the .equals method compares the content of the objects themselves to check if they are equal (i.e. point to the same object), deep equality methods such as the .deepequals method compares the content of nested objects or arrays to determine equality."
      ]
    },
    {
      "cell_type": "code",
      "execution_count": null,
      "metadata": {
        "vscode": {
          "languageId": "java"
        },
        "id": "QmJjhYOYnU1S",
        "outputId": "b3c09614-c948-4c2c-fab5-f264d0411aa4"
      },
      "outputs": [
        {
          "name": "stdout",
          "output_type": "stream",
          "text": [
            "Regular/shallow equality result: false\n",
            "Deep equality result: true\n"
          ]
        }
      ],
      "source": [
        "import java.util.Arrays;\n",
        "\n",
        "public class DeepEquality {\n",
        "\n",
        "    public static void main(String[] args) {\n",
        "\n",
        "        String[][] fruit1 = {\n",
        "            {\"apple\", \"banana\"},\n",
        "            {\"orange\", \"grape\"}\n",
        "        };\n",
        "\n",
        "        String[][] fruit2 = {\n",
        "            {\"apple\", \"banana\"},\n",
        "            {\"orange\", \"grape\"}\n",
        "        };\n",
        "\n",
        "        // Regular comparison (compares array references, not contents)\n",
        "        System.out.println(\"Regular/shallow equality result: \" + (fruit1.equals(fruit2))); // will output false since the arrays do not reference the same object\n",
        "\n",
        "        // Deep comparison (compares array contents, not just references)\n",
        "        System.out.println(\"Deep equality result: \" + (Arrays.deepEquals(fruit1, fruit2))); // will output true since the arrays have the same content\n",
        "    }\n",
        "}\n",
        "\n",
        "DeepEquality.main(null);"
      ]
    },
    {
      "cell_type": "markdown",
      "metadata": {
        "id": "3y1DwWCNnU1T"
      },
      "source": [
        "## Challenge!\n",
        "\n",
        "Identify the issue(s) in the code below (hint: try running it yourself). Then, make the necessary corrections to ensure that the program runs as intended."
      ]
    },
    {
      "cell_type": "code",
      "execution_count": null,
      "metadata": {
        "vscode": {
          "languageId": "java"
        },
        "id": "pfMEccKmnU1T",
        "outputId": "b9346819-3a23-42ab-bc1b-7965f2f6fd6a"
      },
      "outputs": [
        {
          "name": "stdout",
          "output_type": "stream",
          "text": [
            "Guess my name!\n",
            "Your guess: John\n",
            "true\n"
          ]
        }
      ],
      "source": [
        "public class Challenge {\n",
        "\n",
        "    private static boolean isName = false;\n",
        "    private static String name = new String(\"John\");\n",
        "\n",
        "\n",
        "    public static void main(String [] args){\n",
        "\n",
        "        Scanner sc = new Scanner(System.in);\n",
        "\n",
        "        System.out.println(\"Guess my name!\");\n",
        "\n",
        "        String guess = sc.nextLine();\n",
        "        System.out.println(\"Your guess: \"+guess);\n",
        "\n",
        "\n",
        "        if(guess == name){ //the comparison should be made using .equals instead of the two equal signs, since we are comparing two strings\n",
        "            isName = true;\n",
        "        } else {\n",
        "            System.out.println(\"Wrong! L Cope\");\n",
        "        }\n",
        "\n",
        "        System.out.println(isName);\n",
        "\n",
        "    }\n",
        "}\n",
        "\n",
        "Challenge.main(null);"
      ]
    },
    {
      "cell_type": "code",
      "execution_count": null,
      "metadata": {
        "vscode": {
          "languageId": "java"
        },
        "id": "BOPMDczZnU1T",
        "outputId": "79aa2aac-c3e5-49ed-cf70-853afa9d51a1"
      },
      "outputs": [
        {
          "name": "stdout",
          "output_type": "stream",
          "text": [
            "enter your score:\n",
            "your score: 23\n",
            "you win!\n"
          ]
        }
      ],
      "source": [
        "import java.util.Scanner;\n",
        "\n",
        "public class CompareTo {\n",
        "\n",
        "    private static boolean hasMinScore = false;\n",
        "    private static int minScore = 20;\n",
        "\n",
        "    public static void main(String[] args) {\n",
        "\n",
        "        Scanner sc = new Scanner(System.in);\n",
        "\n",
        "        System.out.println(\"enter your score:\");\n",
        "\n",
        "        int playerScore = sc.nextInt();\n",
        "        System.out.println(\"your score: \" + playerScore);\n",
        "\n",
        "        // using compareTo to check if the player's score meets the min\n",
        "        if (Integer.compare(playerScore, minScore) >= 0) {\n",
        "            hasMinScore = true;\n",
        "            System.out.println(\"you win!\");\n",
        "        } else {\n",
        "            System.out.println(\"you didn't reach the minimum score\");\n",
        "        }\n",
        "\n",
        "    }\n",
        "}\n",
        "\n",
        "CompareTo.main(null);"
      ]
    }
  ],
  "metadata": {
    "kernelspec": {
      "display_name": "Java",
      "language": "java",
      "name": "java"
    },
    "language_info": {
      "codemirror_mode": "java",
      "file_extension": ".jshell",
      "mimetype": "text/x-java-source",
      "name": "Java",
      "pygments_lexer": "java",
      "version": "20.0.1"
    },
    "orig_nbformat": 4,
    "colab": {
      "provenance": []
    }
  },
  "nbformat": 4,
  "nbformat_minor": 0
}
