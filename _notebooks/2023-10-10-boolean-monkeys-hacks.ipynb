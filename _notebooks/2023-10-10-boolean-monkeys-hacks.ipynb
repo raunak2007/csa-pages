{
  "cells": [
    {
      "cell_type": "markdown",
      "metadata": {
        "id": "jnzqGvddyORw"
      },
      "source": [
        "---\n",
        "layout: post\n",
        "title: U3 Hacks\n",
        "comments: true\n",
        "courses: { csa: {week: 7} }\n",
        "type: hacks\n",
        "---"
      ]
    },
    {
      "cell_type": "markdown",
      "metadata": {
        "id": "-iA6KkNlyORx"
      },
      "source": [
        "# Your Homework\n",
        "\n",
        "Now that you know what boolean expressions are and how to write them, as well as several comparison methods, your task is to write a class that uses either the compareTo or comparator and compare. Then create two instances of these classes and demonstrate using if statements.\n",
        "\n",
        "\n",
        "\n",
        "\n",
        "BONUS: Create a program that checks if a year is a leap year or not.\n",
        "\n",
        "Here is how the method should work:\n",
        "\n",
        "(1) Prompt the user to input any year that they would like <br>\n",
        "(2) Determine if the year is a leap year or not <br>\n",
        "(3) Print the necessary dialogue (ex. [year] is/is not a leap year) AND return the value of any boolean(s) used\n"
      ]
    },
    {
      "cell_type": "code",
      "execution_count": null,
      "metadata": {
        "vscode": {
          "languageId": "java"
        },
        "id": "QWg67hQ1yORx"
      },
      "outputs": [],
      "source": [
        "import java.util.Scanner;\n",
        "\n",
        "public class LeapYearChecker {\n",
        "\n",
        "    public static void main(String[] args) {\n",
        "        Scanner scanner = new Scanner(System.in);\n",
        "\n",
        "        System.out.print(\"Enter a year: \");\n",
        "        int year = scanner.nextInt();\n",
        "        boolean isLeapYear = isLeapYear(year);\n",
        "\n",
        "        System.out.println(year + (isLeapYear ? \" is a leap year.\" : \" is not a leap year.\"));\n",
        "    }\n",
        "\n",
        "    public static boolean isLeapYear(int year) {\n",
        "        if ((year % 4 == 0 && year % 100 != 0) || (year % 400 == 0)) {\n",
        "            return true;\n",
        "        } else {\n",
        "            return false;\n",
        "        }\n",
        "    }\n",
        "}"
      ]
    },
    {
      "cell_type": "code",
      "execution_count": null,
      "metadata": {
        "vscode": {
          "languageId": "java"
        },
        "id": "q5g2fvjqyORy",
        "outputId": "e3c67ea1-b699-4338-8ae6-a8bba454629b"
      },
      "outputs": [
        {
          "name": "stdout",
          "output_type": "stream",
          "text": [
            "2007 is a leap year: false\n",
            "2020 is a leap year: true\n"
          ]
        }
      ],
      "source": [
        "// Demo\n",
        "public class Demo {\n",
        "    public static void main(String[] args) {\n",
        "        LeapYearChecker year1 = new LeapYearChecker(2007);\n",
        "        LeapYearChecker year2 = new LeapYearChecker(2020);\n",
        "\n",
        "        boolean isLeap1 = year1.isLeapYear();\n",
        "        boolean isLeap2 = year2.isLeapYear();\n",
        "\n",
        "        System.out.println(\"2007 is a leap year: \" + isLeap1);\n",
        "        System.out.println(\"2020 is a leap year: \" + isLeap2);\n",
        "    }\n",
        "}\n",
        "\n",
        "Demo.main(null);"
      ]
    },
    {
      "cell_type": "markdown",
      "metadata": {
        "id": "sEnUmL-NyORy"
      },
      "source": [
        "### Weird questions\n",
        "\n",
        "<b>1. !(true)&&(false) = ? what in boolean values?</b>\n",
        "\n",
        "!(true)&&(false)= false && false = **false**\n",
        "\n",
        "<b>2. not ((((true and not (false)) ^ false) ^ true) && false) (remember PEMDASNAO!)</b>\n",
        "\n",
        "not ((((true and not (false)) ^ false) ^ true) && false)=\n",
        "not (((true ^ false) ^ true) && false)=\n",
        "not ((true ^ true) && false)=\n",
        "not (true && false)=\n",
        "not false=\n",
        "**true**\n",
        "\n",
        "<b>3. Prove the following: !A * !(B + !C) = !A * (!B * !C)</b>\n",
        "\n",
        "!A * (!B * C)=!A * (!C * !B)\n",
        "Using the law of association, !C * !B=!B * !C\n",
        "Therefore, !A * (!B * C)=!A * (!C * !B)=!A * (!B * !C)\n",
        "\n",
        "<b>4. 420 && 66 (Hint, convert to binary, then perform the operation)</b>\n",
        "\n",
        "420 --> 110100100\n",
        "\n",
        "66 --> 001000010 (assuming same # of digits as 420)\n",
        "\n",
        "110100100 & 001000010 --> 000000000=>**0**\n",
        "\n",
        "<b>5. If you got this one, try 89 OR 42</b>\n",
        "\n",
        "89=1011001 in binary\n",
        "\n",
        "42=0101010 in binary (assuming same # of digits as 89)\n",
        "\n",
        "1011001 & 0101010 --> 1111011=>**123**"
      ]
    }
  ],
  "metadata": {
    "kernelspec": {
      "display_name": "Java",
      "language": "java",
      "name": "java"
    },
    "language_info": {
      "codemirror_mode": "java",
      "file_extension": ".jshell",
      "mimetype": "text/x-java-source",
      "name": "Java",
      "pygments_lexer": "java",
      "version": "20.0.1"
    },
    "colab": {
      "provenance": []
    }
  },
  "nbformat": 4,
  "nbformat_minor": 0
}
