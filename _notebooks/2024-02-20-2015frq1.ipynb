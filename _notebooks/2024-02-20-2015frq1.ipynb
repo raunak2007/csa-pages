{
  "cells": [
    {
      "cell_type": "markdown",
      "metadata": {
        "id": "oBWhN1lwAzFk"
      },
      "source": [
        "---\n",
        "layout: post\n",
        "title: 2015 FRQ Question 1\n",
        "toc: true\n",
        "comments: true\n",
        "description: Arrays/Arraylists\n",
        "courses: { csa: {week: 24} }\n",
        "type: tangibles\n",
        "---"
      ]
    },
    {
      "cell_type": "markdown",
      "metadata": {
        "id": "Bl_iQ26BAzFm"
      },
      "source": [
        "# Question 1: Arrays/Arraylists"
      ]
    },
    {
      "cell_type": "markdown",
      "source": [
        "## Question 1a"
      ],
      "metadata": {
        "id": "gUQZkpziMmmC"
      }
    },
    {
      "cell_type": "markdown",
      "metadata": {
        "id": "e16l_18vAzFn"
      },
      "source": [
        "1a) This question involves reasoning about one-dimensional and two-dimensional arrays of integers. You will write three static methods, all of which are in a single enclosing class, named DiverseArray (not shown). The first method returns the sum of the values of a one-dimensional array; the second method returns an array that represents the sums of the rows of a two-dimensional array; and the third method analyzes row sums.\n",
        "\n",
        "Write a static method arraySum that calculates and returns the sum of the entries in a specified one-dimensional array. The following example shows an array arr1 and the value returned by a call to arraySum."
      ]
    },
    {
      "cell_type": "code",
      "execution_count": null,
      "metadata": {
        "vscode": {
          "languageId": "java"
        },
        "id": "9cYsvrXMAzFn",
        "outputId": "56d00f49-f6cb-422b-a658-85bb48c0fc03"
      },
      "outputs": [
        {
          "name": "stdout",
          "output_type": "stream",
          "text": [
            "There are 13600 employees registered into Jinder\n"
          ]
        }
      ],
      "source": [
        "public class Main {\n",
        "    public static void main(String[] args) {\n",
        "        // number of employees in each city\n",
        "        int[] employees = {1000, 2600, 4200, 5800};\n",
        "\n",
        "        System.out.println(\"There are \" + arraySum(employees) + \" employees registered into Jinder\");\n",
        "    }\n",
        "}\n",
        "\n",
        "public static int arraySum(int[] arr) {\n",
        "    int sum = 0;\n",
        "    for (int num : arr) { // iteration\n",
        "        sum += num;\n",
        "    }\n",
        "    return sum;\n",
        "\n",
        "}\n",
        "\n",
        "Main.main(null);"
      ]
    },
    {
      "cell_type": "markdown",
      "source": [
        "## 1a Explanation\n",
        "The logic that I used to write the `arraySum` method was mostly based on iterating through all of elements of `arr`. While iterating, I added the value of each element to the variable `sum`, which was initialized to a value of 0, and used a for-each loop for convenience (since I am not modifying the elements of `arr` while iterating through it). Finally, I returned the value of `sum` at the end. My test code for this was inspired by my project as I used the `arraySum` method to find the (hypothetical) total number of employees logged into the website."
      ],
      "metadata": {
        "id": "PqFUUD6DJRok"
      }
    },
    {
      "cell_type": "markdown",
      "source": [
        "## Question 1b"
      ],
      "metadata": {
        "id": "tll3kmc3Opot"
      }
    },
    {
      "cell_type": "markdown",
      "metadata": {
        "id": "xVjQVT5zAzFo"
      },
      "source": [
        "Write a static method rowSums that calculates the sums of each of the rows in a given two-dimensional array and returns these sums in a one-dimensional array. The method has one parameter, a two-dimensional array arr2D of int values. The array is in row-major order: arr2D [r] [c] is the entry at row r and column c. The method returns a one-dimensional array with one entry for each row of arr2D such that each entry is the sum of the corresponding row in arr2D. As a reminder, each row of a two-dimensional array is a one-dimensional array."
      ]
    },
    {
      "cell_type": "code",
      "execution_count": null,
      "metadata": {
        "vscode": {
          "languageId": "java"
        },
        "id": "uF96I0YhAzFo",
        "outputId": "4e406362-1076-46c1-f810-34ba3db81d91"
      },
      "outputs": [
        {
          "name": "stdout",
          "output_type": "stream",
          "text": [
            "Employees by City:\n",
            "San Diego, CA has 1000 employees\n",
            "Los Angeles, CA has 2600 employees\n",
            "San Francisco, CA has 4200 employees\n"
          ]
        }
      ],
      "source": [
        "public class Main {\n",
        "    public static void main(String[] args) {\n",
        "        // number of employees in each city in each occupation\n",
        "        int[][] employees = {\n",
        "            {100, 200, 300, 400},\n",
        "            {500, 600, 700, 800},\n",
        "            {900, 1000, 1100, 1200}\n",
        "        };\n",
        "        String[] cities={\"San Diego, CA\", \"Los Angeles, CA\", \"San Francisco, CA\"};\n",
        "        int[] sums = rowSums(employees);\n",
        "\n",
        "        System.out.println(\"Employees by City:\");\n",
        "        for (int i = 0; i < sums.length; i++) {\n",
        "            System.out.println(\"cities[i] + \" has \" + sums[i]+ \"employees);\n",
        "        }\n",
        "    }\n",
        "}\n",
        "\n",
        "public static int[] rowSums(int[][] arr2D) {\n",
        "    int[] sums = new int[arr2D.length]; // Initialize an array to store row sums\n",
        "\n",
        "    // Iterate through each row\n",
        "    for (int i = 0; i < arr2D.length; i++) {\n",
        "        // Calculate sum of current row using arraySum method\n",
        "        sums[i] = arraySum(arr2D[i]);\n",
        "    }\n",
        "    return sums;\n",
        "}\n",
        "\n",
        "Main.main(null);"
      ]
    },
    {
      "cell_type": "markdown",
      "source": [
        "## 1b Explanation\n",
        "\n",
        "I started the `rowSums` method by initializing an array of integers called `sums` and then iterated through the different arrays within `arr2D` in order to compute the sum of the arrays using `arraySum()` and set each element at the corresponding index to `arraySum(arr2D[i])`. After that, I returned `sums` as the output of the method. I couldn't use a for-each loop because I had to iterate through the indices of `arr2D` rather than its elements. I implemented this in a similar fashion as 1a and changed my array of number of employees to be a 2D array with employee counts being classified by both location and occupation."
      ],
      "metadata": {
        "id": "-DNNCdkhWbd1"
      }
    },
    {
      "cell_type": "markdown",
      "source": [
        "## Question 1c"
      ],
      "metadata": {
        "id": "JBNkfIeH3DeJ"
      }
    },
    {
      "cell_type": "markdown",
      "metadata": {
        "id": "nRRrFcYQAzFo"
      },
      "source": [
        "PART C: A two-dimensional array is diverse if no two of its rows have entries that sum to the same value. In the following examples, the array mat1 is diverse because each row sum is different, but the array mat2 is not diverse because the first and last rows have the same sum. Write a static method isDiverse that determines whether or not a given two-dimensional array is diverse. The method has one parameter: a two-dimensional array arr2D of int values. The method should return true if all the row sums in the given array are unique; otherwise, it should return false. In the arrays shown above, the call isDiverse (mat1) returns true and the call isDiverse(mat2) returns false.\n",
        "\n"
      ]
    },
    {
      "cell_type": "code",
      "execution_count": null,
      "metadata": {
        "vscode": {
          "languageId": "java"
        },
        "id": "LspcLA3xAzFo",
        "outputId": "d793071c-7b1f-4899-ddf7-a2b1ccde0a61"
      },
      "outputs": [
        {
          "name": "stdout",
          "output_type": "stream",
          "text": [
            "Company 1 is diverse: true\n",
            "Company 2 is diverse: false\n"
          ]
        }
      ],
      "source": [
        "public class Main {\n",
        "    public static void main(String[] args) {\n",
        "        // employee count by location and occupation for 1st company\n",
        "        int[][] comp1 = {\n",
        "            {100, 200, 300},\n",
        "            {400, 500, 600},\n",
        "            {700, 800, 900}\n",
        "        };\n",
        "        // employee count by location and occupation for 2nd company\n",
        "        int[][] comp2 = {\n",
        "            {100, 400, 700},\n",
        "            {200, 500, 800},\n",
        "            {300, 600, 600}\n",
        "        };\n",
        "\n",
        "        // hypothetical testing of isDiverse method\n",
        "        System.out.println(\"Company 1 is diverse: \" + isDiverse(comp1)); // this should output to true\n",
        "        System.out.println(\"Company 2 is diverse: \" + isDiverse(comp2)); // this should output to false\n",
        "    }\n",
        "\n",
        "    // given method from frq\n",
        "    public static boolean isDiverse(int[][] arr2D) {\n",
        "    int[] sums = rowSums(arr2D); // Calculate row sums using rowSums method\n",
        "\n",
        "    // Check for duplicate sums\n",
        "    for (int i = 0; i < sums.length - 1; i++) {\n",
        "        for (int j = i + 1; j < sums.length; j++) {\n",
        "            if (sums[i] == sums[j]) {\n",
        "                return false;\n",
        "            }\n",
        "        }\n",
        "    }\n",
        "\n",
        "    return true;\n",
        "}\n",
        "\n",
        "    // rowSums method from earlier\n",
        "    public static int[] rowSums(int[][] arr2D) {\n",
        "        int numRows = arr2D.length;\n",
        "        int[] sums = new int[numRows];\n",
        "\n",
        "\n",
        "        for (int i = 0; i < numRows; i++) {\n",
        "\n",
        "            sums[i] = arraySum(arr2D[i]);\n",
        "        }\n",
        "\n",
        "        return sums;\n",
        "    }\n",
        "\n",
        "    // arraySum method from earlier\n",
        "    public static int arraySum(int[] arr) {\n",
        "    int sum = 0;\n",
        "    for (int num : arr) { // iteration\n",
        "        sum += num;\n",
        "    }\n",
        "    return sum;\n",
        "\n",
        "  }\n",
        "}\n",
        "\n",
        "\n",
        "Main.main(null);"
      ]
    },
    {
      "cell_type": "markdown",
      "metadata": {
        "id": "Sm9DzehBAzFp"
      },
      "source": [
        "## 1c Explanation\n",
        "\n",
        "I first declared and initialized two 2D arrays. These arrays, `comp1` and `comp2`, represent employee counts categorized by location and occupation for two different companies. The program then proceeds to test the `isDiverse` method with these arrays. The `isDiverse` method checks whether the provided 2D array is diverse, meaning each row's sum is distinct from the sums of other rows. It does this by first calculating the sum of each row using the `rowSums` method. Then, it checks for any duplicate sums among these row sums. If it finds any duplicates, it returns false, indicating that the array is not diverse. Otherwise, it returns true. The `isDiverse` method is somewhat related to the KNN algorithm that our project group used for recommending jobs to potential applicants because it can detect which jobs are more or less competitive in different areas, which would feed into the layers of the KNN algorithm, making it more accurate at recommending jobs to potential applicants living in diverse geographical locations."
      ]
    }
  ],
  "metadata": {
    "kernelspec": {
      "display_name": "Java",
      "language": "java",
      "name": "java"
    },
    "language_info": {
      "codemirror_mode": "java",
      "file_extension": ".jshell",
      "mimetype": "text/x-java-source",
      "name": "Java",
      "pygments_lexer": "java",
      "version": "16.0.1+9-Ubuntu-120.04"
    },
    "colab": {
      "provenance": []
    }
  },
  "nbformat": 4,
  "nbformat_minor": 0
}
