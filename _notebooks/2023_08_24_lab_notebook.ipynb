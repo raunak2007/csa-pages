{
  "nbformat": 4,
  "nbformat_minor": 0,
  "metadata": {
    "colab": {
      "provenance": []
    },
    "kernelspec": {
      "name": "python3",
      "display_name": "Python 3"
    },
    "language_info": {
      "name": "python"
    }
  },
  "cells": [
    {
      "cell_type": "markdown",
      "source": [
        "# Anatomy of GitHub Pages Notes\n",
        "\n",
        "## Files and Directories\n",
        "- **README.md**: Contains project instructions and background information.\n",
        "- **index.md**: Source file for the project's homepage. Converted to HTML by Jekyll.\n",
        "- **_notebooks**: Directory for Jupyter Notebook files converted to Markdown.\n",
        "- **_posts**: Directory for Markdown files with frontmatter and code for the website.\n",
        "- **_data**: Directory for data files supporting _posts or _notebooks.\n",
        "- **images**: Directory for image files supporting _posts or _notebooks.\n",
        "- **_config.yml**: YAML file for Jekyll website build definitions.\n",
        "- **.gitignore**: Specifies excluded elements from version control.\n",
        "\n",
        "## Changing the Theme\n",
        "1. Search for \"github pages themes\" or visit a theme link.\n",
        "2. Edit `_config.yml` to change the theme by commenting/uncommenting theme options.\n",
        "3. Modify `_includes/head.html` for JavaScript support.\n",
        "4. Read theme README.md for customization instructions.\n",
        "\n",
        "## Hacks\n",
        "- Customize your page based on the 'teacher' repository, tailoring it to your course needs and interests.\n",
        "- Explore 'teacher' repository's Submenu for different pages.\n",
        "\n",
        "### Course Hack\n",
        "- Use Markdown in `index.md` to create content.\n",
        "- Include submenu code in `_includes/nave_home.html`.\n",
        "- Use table for submenu links.\n",
        "\n",
        "### Style Hack\n",
        "- Customize styles in `/assets/css/style.css`.\n",
        "- Adjust styles for specific elements in `/_posts/<date>Example-calculator.md`.\n",
        "\n",
        "Remember to identify language types and consult references (e.g., Markdown Cheat Sheet) while working with different files.\n"
      ],
      "metadata": {
        "id": "HYZ1vfZkXy85"
      }
    },
    {
      "cell_type": "code",
      "execution_count": null,
      "metadata": {
        "id": "qfpoEC02XuEI"
      },
      "outputs": [],
      "source": []
    }
  ]
}