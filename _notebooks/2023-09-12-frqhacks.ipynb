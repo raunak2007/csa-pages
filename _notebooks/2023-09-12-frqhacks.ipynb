{
  "cells": [
    {
      "cell_type": "markdown",
      "metadata": {
        "id": "P9EmVPwLGiFJ"
      },
      "source": [
        " ---\n",
        "layout: post\n",
        "title: Week 4 |FRQ Overview\n",
        "description: Reviewing the2015 CSA FRQ\n",
        "courses: { csa: {week: 4} }\n",
        "type: hacks\n",
        "---"
      ]
    },
    {
      "cell_type": "markdown",
      "metadata": {
        "id": "81qcP5OANSTv"
      },
      "source": [
        "#**Question 2**\n",
        "##**`HiddenWord` class**"
      ]
    },
    {
      "cell_type": "code",
      "execution_count": null,
      "metadata": {
        "id": "CsNo6ErDIv7D"
      },
      "outputs": [],
      "source": [
        "public class HiddenWord\n",
        "{\n",
        "    private String hidden;\n",
        "\n",
        "    public HiddenWord(String h)\n",
        "    {\n",
        "        hidden = h;\n",
        "    }\n",
        "\n",
        "    public String getHint(String hint)\n",
        "    {\n",
        "        String r = \"\";\n",
        "\n",
        "        for(int i = 0; i < hint.length(); i++)\n",
        "        {\n",
        "            if(hint.charAt(i) == hidden.charAt(i))\n",
        "                r += \"\"+hint.charAt(i);\n",
        "            else if(hidden.indexOf(hint.charAt(i)) > -1)\n",
        "                r += \"+\";\n",
        "            else\n",
        "                r += \"*\";\n",
        "        }\n",
        "\n",
        "        return r;\n",
        "    }\n",
        "}\n"
      ]
    },
    {
      "cell_type": "markdown",
      "metadata": {
        "id": "mdQ-6L_wI1t4"
      },
      "source": [
        "This class represents a hidden word game. It has a private `hidden` string representing the target word. The `getHint` method takes a `hint` as input and generates a hint for the player based on their guess. It compares each character of the `hint` to the corresponding character in the `hidden` word. If they match, it adds the character to the result `r`. If the character is in the `hidden` word but not in the correct position, it adds a `+`. If the character is not in the `hidden` word, it adds `*`. The resulting hint is then returned."
      ]
    },
    {
      "cell_type": "markdown",
      "metadata": {
        "id": "pEvPWwcpKPVV"
      },
      "source": [
        "#**Question 3**\n",
        "##**Part A - `getValueAt` method**"
      ]
    },
    {
      "cell_type": "code",
      "execution_count": null,
      "metadata": {
        "id": "ODvXozAbKliM"
      },
      "outputs": [],
      "source": [
        "public int getValueAt(int row, int col)\n",
        "{\n",
        "    for(SparseArrayEntry e : entries)\n",
        "    {\n",
        "        if(e.getRow() == row && e.getCol() == col)\n",
        "            return e.getValue();\n",
        "    }\n",
        "\n",
        "    return 0;\n",
        "}"
      ]
    },
    {
      "cell_type": "markdown",
      "metadata": {
        "id": "1GXC77nAKpSn"
      },
      "source": [
        "This method is part of a class that represents a sparse array. It searches for a value at the specified `row` and `col` coordinates within the sparse array. It iterates through the entries in the `entries` list (presumably a list of `SparseArrayEntry` objects) and checks if an entry has the matching `row` and `col`. If a matching entry is found, it returns the corresponding value. If no matching entry is found, it returns 0, indicating that the default value is 0.\n",
        "\n",
        "\n",
        "## **Part B - `removeColumn` method**"
      ]
    },
    {
      "cell_type": "code",
      "execution_count": null,
      "metadata": {
        "id": "2CRw3dK1LCSU"
      },
      "outputs": [],
      "source": [
        "public void removeColumn(int col)\n",
        "{\n",
        "    numCols--;\n",
        "\n",
        "    for(int i = entries.size()-1; i >= 0; i--)\n",
        "        if(entries.get(i).getCol() == col)\n",
        "            entries.remove(i);\n",
        "\n",
        "    for(int i = 0; i < entries.size(); i++)\n",
        "        if(entries.get(i).getCol() >= col)\n",
        "        {\n",
        "            SparseArrayEntry h = entries.get(i);\n",
        "            SparseArrayEntry e = new SparseArrayEntry(h.getRow(), (h.getCol()-1), h.getValue());\n",
        "            entries.set(i, e);\n",
        "        }\n",
        "}"
      ]
    },
    {
      "cell_type": "markdown",
      "metadata": {
        "id": "H4Ziwvp4LEil"
      },
      "source": [
        "This method is also part of a class that represents a sparse array. It is used to remove a specified column from the sparse array. It decreases the `numCols` count by one and then iterates through the `entries` list. It removes any entries that have the specified `col` value. After removing the entries, it adjusts the column index of the remaining entries by decrementing them by one, effectively shifting them leftward.\n",
        "\n",
        "# **Question 4**\n",
        "## **Part A - NumberGroup interface**"
      ]
    },
    {
      "cell_type": "code",
      "execution_count": null,
      "metadata": {
        "id": "e8J7pwOuLxwG"
      },
      "outputs": [],
      "source": [
        "public interface NumberGroup\n",
        "{\n",
        "     public boolean contains(int num);\n",
        "}\n"
      ]
    },
    {
      "cell_type": "markdown",
      "metadata": {
        "id": "ZjAZqWLvL19m"
      },
      "source": [
        "This is an interface named `NumberGroup` with a single method `contains(int num)`. Classes that implement this interface are expected to provide an implementation for the `contains` method, which checks if a given number `num` is contained within the group.\n",
        "## **Part B - Range class**"
      ]
    },
    {
      "cell_type": "code",
      "execution_count": null,
      "metadata": {
        "id": "oFR-NgszMHaR"
      },
      "outputs": [],
      "source": [
        "public class Range implements NumberGroup\n",
        "{\n",
        "    private int[] list;\n",
        "\n",
        "    public Range(int min, int max)\n",
        "    {\n",
        "        list = new int[Math.abs(max-min+1)];\n",
        "        for(int i = 0; i < list.length; i++)\n",
        "            list[i] = min + i;\n",
        "    }\n",
        "\n",
        "    public boolean contains(int num)\n",
        "    {\n",
        "        for(int n : list)\n",
        "            if(num == n)\n",
        "                return true;\n",
        "        return false;\n",
        "    }\n",
        "}"
      ]
    },
    {
      "cell_type": "markdown",
      "metadata": {
        "id": "_hpO_CZPMKNL"
      },
      "source": [
        "This class `Range` implements the `NumberGroup` interface. It represents a range of consecutive integers between `min` and `max` (inclusive). The `contains` method checks if a given number num is within the range by iterating through the `list` of integers and returning `true` if it finds a match and `false` otherwise.\n",
        "## **Part C - `contains` method**"
      ]
    },
    {
      "cell_type": "code",
      "execution_count": null,
      "metadata": {
        "id": "wqg4Q__iMd7b"
      },
      "outputs": [],
      "source": [
        "public boolean contains(int num)\n",
        "{\n",
        "    for(NumberGroup n : groupList)\n",
        "        if(n.contains(num))\n",
        "            return true;\n",
        "    return false;\n",
        "}"
      ]
    },
    {
      "cell_type": "markdown",
      "metadata": {
        "id": "QCth594MMehL"
      },
      "source": [
        "This method is part of a class that manages a collection of `NumberGroup` objects. It checks if a given number `num` is contained in any of the `NumberGroup` objects stored in the `groupList`. It iterates through the `groupList` and uses the `contains` method of each `NumberGroup` to determine if `num` is contained within any of them. If it finds a match in any of the groups, it returns `true`; otherwise, it returns `false`."
      ]
    },
    {
      "cell_type": "markdown",
      "metadata": {
        "id": "W4zPIjG_Mvl5"
      },
      "source": [
        "#Original Code"
      ]
    },
    {
      "cell_type": "code",
      "execution_count": null,
      "metadata": {
        "id": "1Chk3_w6aY1I"
      },
      "outputs": [],
      "source": [
        "//Question 2\n",
        "\n",
        "public class HiddenWord\n",
        "{\n",
        "   private String hidden;\n",
        "\n",
        "   public HiddenWord(String h)\n",
        "   {\n",
        "     hidden = h;\n",
        "   }\n",
        "\n",
        "   public String getHint(String hint)\n",
        "   {\n",
        "     String r = \"\";\n",
        "\n",
        "     for(int i = 0; i < hint.length(); i++)\n",
        "     {\n",
        "       if(hint.charAt(i) == hidden.charAt(i))\n",
        "         r += \"\"+hint.charAt(i);\n",
        "       else if(hidden.indexOf(hint.charAt(i)) > -1)\n",
        "         r += \"+\";\n",
        "       else\n",
        "         r += \"*\";\n",
        "     }\n",
        "\n",
        "     return r;\n",
        "   }\n",
        "}\n",
        "Question 3\n",
        "\n",
        "// part A\n",
        " public int getValueAt(int row, int col)\n",
        " {\n",
        "    for(SparseArrayEntry e : entries)\n",
        "    {\n",
        "       if(e.getRow() == row && e.getCol() == col)\n",
        "         return e.getValue();\n",
        "    }\n",
        "\n",
        "    return 0;\n",
        " }\n",
        "\n",
        " // part B\n",
        " public void removeColumn(int col)\n",
        " {\n",
        "    numCols--;\n",
        "\n",
        "    for(int i = entries.size()-1; i >= 0; i--)\n",
        "       if(entries.get(i).getCol() == col)\n",
        "          entries.remove(i);\n",
        "\n",
        "    for(int i = 0; i < entries.size(); i++)\n",
        "       if(entries.get(i).getCol() >= col)\n",
        "       {\n",
        "          SparseArrayEntry h = entries.get(i);\n",
        "          SparseArrayEntry e =\n",
        "             new SparseArrayEntry(h.getRow(),(h.getCol()-1),h.getValue());\n",
        "          entries.set(i, e);\n",
        "       }\n",
        " }\n",
        "Question 4\n",
        "\n",
        "// part A\n",
        "public interface NumberGroup\n",
        "{\n",
        "     public boolean contains(int num);\n",
        "}\n",
        "\n",
        "// part B\n",
        "public class Range implements NumberGroup\n",
        "{\n",
        "   private int[] list;\n",
        "\n",
        "   public Range(int min, int max)\n",
        "   {\n",
        "      list = new int[Math.abs(max-min+1)];\n",
        "      for(int i = 0; i < list.length; i++)\n",
        "          list[i] = min + i;\n",
        "   }\n",
        "\n",
        "   public boolean contains(int num)\n",
        "   {\n",
        "      for(int n: list)\n",
        "         if(num == n)\n",
        "            return true;\n",
        "      return false;\n",
        "   }\n",
        "}\n",
        "\n",
        "// part C\n",
        "public boolean contains(int num)\n",
        "{\n",
        "   for(NumberGroup n : groupList)\n",
        "      if(n.contains(num))\n",
        "         return true;\n",
        "   return false;\n",
        "}"
      ]
    }
  ],
  "metadata": {
    "kernelspec": {
      "display_name": "Java",
      "language": "java",
      "name": "java"
    },
    "language_info": {
      "codemirror_mode": "java",
      "file_extension": ".jshell",
      "mimetype": "text/x-java-source",
      "name": "java",
      "pygments_lexer": "java",
      "version": "20.0.1"
    }
  },
  "nbformat": 4,
  "nbformat_minor": 0
}
