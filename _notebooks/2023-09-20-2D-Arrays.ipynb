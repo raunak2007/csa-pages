{
  "cells": [
    {
      "cell_type": "markdown",
      "metadata": {
        "id": "ogVbaIf27AVx"
      },
      "source": [
        "---\n",
        "layout: post\n",
        "title: 2D Arrays\n",
        "description: Lesson on 2D Arrays\n",
        "courses: { csa: {week: 1} }\n",
        "type: lessons\n",
        "toc: true\n",
        "comments: true\n",
        "---"
      ]
    },
    {
      "cell_type": "markdown",
      "metadata": {
        "id": "T9qFpQMF7AVy"
      },
      "source": [
        "# APCSA Unit 3 College Board Learning Objectives and Standards\n",
        "\n",
        "## Learning Objectives\n",
        "\n",
        "The objective of today's lesson is to...\n",
        "\n",
        "- Learn about 2D arrays, their use cases, and how to create them.\n",
        "\n",
        "## Essential Knowledge\n",
        "\n",
        "College Board wants you to know...\n",
        "\n",
        "- How to declare/initialize 2D arrays.\n",
        "- How to determine their size.\n",
        "- How to access and update the values of a 2D array.\n",
        "- How to traverse/access elements of a 2D array using nested iteration statements.\n",
        "- How nested iteration statements can be used to traverse 2D arrays in “row-major order” vs “column-major order.”\n",
        "- How to create algorithms that require the use of 2D array traversals."
      ]
    },
    {
      "cell_type": "markdown",
      "metadata": {
        "id": "5PMbMzNl7AVy"
      },
      "source": [
        "## Warm Up\n",
        "\n",
        "Answer the following questions as a group or individually. Write down your answers in your hacks notebook.\n",
        "\n",
        "- What are 2D arrays?\n",
        "\n",
        "** 2D arrays are 2-dimensional arrays, or basically an array of arrays**\n",
        "\n",
        "- How are 2D arrays organized?\n",
        "\n",
        "** 2D arrays are basically composed of arrays of a certain type and are essentially a list of arrays**\n",
        "\n",
        "- What are some real-world examples of 2D arrays?\n",
        "\n",
        "Some real-world examples of 2D arrays include examples that require 2D input/output, such as image processing and board games such as chess.\n",
        "\n"
      ]
    },
    {
      "cell_type": "markdown",
      "metadata": {
        "id": "FYXVh4MP7AVz"
      },
      "source": [
        "## The Basics/Recap\n",
        "\n",
        "2D arrays, and higher dimension arrays overall, can be thought of as just an array that's made up of other arrays or an array of arrays. One way of looking at 2D arrays is by thinking of them as a chess board. They have rows and columns, and every element is identified via row or column number or index.\n",
        "\n",
        "Below is an illustration of a 2D array:\n",
        "![2D Array Image](https://raw.githubusercontent.com/The-Code-Monkeys/Monkeys38/main/images/2dArray.png)\n",
        "\n"
      ]
    },
    {
      "cell_type": "markdown",
      "metadata": {
        "id": "7xzeouA27AVz"
      },
      "source": [
        "## 1) How to declare/initialize 2D arrays\n",
        "\n",
        "Initializing 2D arrays can be done in multiple different ways. Note: In Java whenever we declare an array we must specify the datatype of the elements in the array. The most common include:"
      ]
    },
    {
      "cell_type": "markdown",
      "metadata": {
        "id": "A2iFrmlj7AVz"
      },
      "source": [
        "1) Initializing and populating the array in one go:"
      ]
    },
    {
      "cell_type": "code",
      "execution_count": null,
      "metadata": {
        "vscode": {
          "languageId": "java"
        },
        "id": "SJoGcvuJ7AVz",
        "outputId": "608341a0-e822-4fa9-f8a4-e7ef329fcf33"
      },
      "outputs": [
        {
          "name": "stdout",
          "output_type": "stream",
          "text": [
            "1 2 3 \n",
            "4 5 6 \n",
            "7 8 9 \n"
          ]
        }
      ],
      "source": [
        "public class Main {\n",
        "    public static void main(String[] args) {\n",
        "        int[][] Array1 = { // 2d Array of integers\n",
        "            {1, 2, 3},\n",
        "            {4, 5, 6},\n",
        "            {7, 8, 9}\n",
        "        };\n",
        "\n",
        "        for (int i = 0; i < Array1.length; i++) { // Loop through the rows\n",
        "            for (int j = 0; j < Array1[i].length; j++) { // Loop through the columns\n",
        "                System.out.print(Array1[i][j] + \" \"); // Print out the element\n",
        "            }\n",
        "            System.out.println(); // Print a new line\n",
        "        }\n",
        "    }\n",
        "}\n",
        "\n",
        "Main.main(null)"
      ]
    },
    {
      "cell_type": "code",
      "execution_count": null,
      "metadata": {
        "vscode": {
          "languageId": "java"
        },
        "id": "AVRDYYs_7AVz",
        "outputId": "440647e3-bfa1-4862-c1b3-255e90bbb6f0"
      },
      "outputs": [
        {
          "name": "stdout",
          "output_type": "stream",
          "text": [
            "one two three \n",
            "four five six \n",
            "seven eight nine \n"
          ]
        }
      ],
      "source": [
        "public class Main {\n",
        "    public static void main(String[] args){\n",
        "    String[][] Array2 = { // 2d Array of strings\n",
        "        {\"one\", \"two\", \"three\"},\n",
        "        {\"four\", \"five\", \"six\"},\n",
        "        {\"seven\", \"eight\", \"nine\"}\n",
        "    };\n",
        "\n",
        "    for (int i = 0; i < Array2.length; i++) { // Loop through the rows\n",
        "        for (int j = 0; j < Array2[i].length; j++) { // Loop through the columns\n",
        "            System.out.print(Array2[i][j] + \" \"); // Print out the element\n",
        "        }\n",
        "            System.out.println(); // Print a new line\n",
        "        }\n",
        "    }\n",
        "}\n",
        "\n",
        "Main.main(null)\n"
      ]
    },
    {
      "cell_type": "code",
      "execution_count": null,
      "metadata": {
        "vscode": {
          "languageId": "java"
        },
        "id": "hPGEfJiR7AV0",
        "outputId": "8079fcd6-a6d2-4edb-a040-9159e8aae706"
      },
      "outputs": [
        {
          "name": "stdout",
          "output_type": "stream",
          "text": [
            "1 two 3.0 \n",
            "4 five 6.0 \n",
            "7 eight 9.0 \n"
          ]
        }
      ],
      "source": [
        "public class Main {\n",
        "    public static void main(String[] args){\n",
        "        Object[][] Array3 = { // 2d Array of objects allows for having varying types in the same 2d array\n",
        "            {1, \"two\", 3.0},\n",
        "            {4, \"five\", 6.0},\n",
        "            {7, \"eight\", 9.0}\n",
        "        };\n",
        "\n",
        "        for (int i = 0; i < Array3.length; i++) { // Loop through the rows\n",
        "            for (int j = 0; j < Array3[i].length; j++) { // Loop through the columns\n",
        "                System.out.print(Array3[i][j] + \" \"); // Print out the element\n",
        "            }\n",
        "            System.out.println(); // Print a new line\n",
        "        }\n",
        "    }\n",
        "}\n",
        "\n",
        "Main.main(null)"
      ]
    },
    {
      "cell_type": "markdown",
      "metadata": {
        "id": "ok0Acro07AV0"
      },
      "source": [
        "2) Creating an empty 2D array and then assigning values to individual elements as through accessing and changing each value via their corresponding row and column index:"
      ]
    },
    {
      "cell_type": "code",
      "execution_count": null,
      "metadata": {
        "vscode": {
          "languageId": "java"
        },
        "id": "ts3hF0DW7AV0",
        "outputId": "cfb63b23-810a-4874-9ee0-d81fa8c39a9f"
      },
      "outputs": [
        {
          "name": "stdout",
          "output_type": "stream",
          "text": [
            "1 2 3 \n",
            "4 5 6 \n",
            "7 8 9 \n"
          ]
        }
      ],
      "source": [
        "public class Main {\n",
        "    public static void main(String[] args){\n",
        "        int[][] myArray = new int[3][3]; // Defines the size of the array, think of the first number as x and the second number as y, for rows and columns.\n",
        "\n",
        "        myArray[0][0] = 1; //  Maps the desired value to a specific point in the array, think of this as an (x,y) coordinate.\n",
        "        myArray[0][1] = 2;\n",
        "        myArray[0][2] = 3;\n",
        "        myArray[1][0] = 4;\n",
        "        myArray[1][1] = 5;\n",
        "        myArray[1][2] = 6;\n",
        "        myArray[2][0] = 7;\n",
        "        myArray[2][1] = 8;\n",
        "        myArray[2][2] = 9;\n",
        "\n",
        "        for (int i = 0; i < myArray.length; i++) { // Loop through the rows\n",
        "            for (int j = 0; j < myArray[i].length; j++) { // Loop through the columns\n",
        "                System.out.print(myArray[i][j] + \" \"); // Print out the element\n",
        "            }\n",
        "            System.out.println(); // Print a new line\n",
        "        }\n",
        "    }\n",
        "}\n",
        "\n",
        "Main.main(null)"
      ]
    },
    {
      "cell_type": "markdown",
      "metadata": {
        "id": "X0IK74ns7AV0"
      },
      "source": [
        "3) Using a nested loop to manually populate each element:"
      ]
    },
    {
      "cell_type": "code",
      "execution_count": null,
      "metadata": {
        "vscode": {
          "languageId": "java"
        },
        "id": "8RTdr1mx7AV0",
        "outputId": "490a69a4-b2d4-49b1-f753-5b210f88ad7d"
      },
      "outputs": [
        {
          "name": "stdout",
          "output_type": "stream",
          "text": [
            "0 1 2 3 \n",
            "4 5 6 7 \n",
            "8 9 10 11 \n"
          ]
        }
      ],
      "source": [
        "public class Main {\n",
        "        public static void main(String[] args){\n",
        "        int rows = 3; // Define number of rows and columns here as variables\n",
        "        int columns = 4;\n",
        "        int[][] myArray = new int[rows][columns];  // Create an array based on the values of the aforementioned variables.\n",
        "        // Create a nested for loop that iterates based on the number of rows and columns.\n",
        "        for (int i = 0; i < rows; i++) {\n",
        "            for (int j = 0; j < columns; j++) {\n",
        "                // You can assign values to each element here\n",
        "                myArray[i][j] = i * columns + j;\n",
        "\n",
        "            }\n",
        "        }\n",
        "        // Print out the array\n",
        "        for (int i = 0; i < myArray.length; i++) { // Loop through the rows\n",
        "            for (int j = 0; j < myArray[i].length; j++) { // Loop through the columns\n",
        "                System.out.print(myArray[i][j] + \" \"); // Print out the element\n",
        "            }\n",
        "            System.out.println(); // Print a new line\n",
        "        }\n",
        "    }\n",
        "}\n",
        "\n",
        "Main.main(null)"
      ]
    },
    {
      "cell_type": "markdown",
      "metadata": {
        "id": "vP1OMGeR7AV0"
      },
      "source": [
        "### Popcorn Hack: Create a 2D Array with random values"
      ]
    },
    {
      "cell_type": "code",
      "execution_count": null,
      "metadata": {
        "vscode": {
          "languageId": "java"
        },
        "id": "9XnWRp9u7AV1"
      },
      "outputs": [],
      "source": [
        "import java.util.Random;\n",
        "\n",
        "public class Main {\n",
        "\n",
        "    public static void main(String[] args) {\n",
        "\n",
        "        // Create a Random object.\n",
        "        Random rand = new Random();\n",
        "\n",
        "        // Declare a 2D array of integers with 3 rows and 3 columns.\n",
        "        int[][] arr = new int[3][3];\n",
        "\n",
        "        // Iterate over the array and generate a random value for each element.\n",
        "        for (int i = 0; i < arr.length; i++) {\n",
        "            for (int j = 0; j < arr[0].length; j++) {\n",
        "                arr[i][j] = rand.nextInt(100);\n",
        "            }\n",
        "        }\n",
        "\n",
        "        // Print the array to the console.\n",
        "        for (int[] row : arr) {\n",
        "            for (int element : row) {\n",
        "                System.out.print(element + \" \");\n",
        "            }\n",
        "            System.out.println();\n",
        "        }\n",
        "    }\n",
        "}"
      ]
    },
    {
      "cell_type": "markdown",
      "metadata": {
        "id": "bm6zcj5Q7AV1"
      },
      "source": [
        "## 2) Accessing and updating the values of a 2D array\n",
        "\n",
        "In order to access the value of a 2D array, you must use array indexing notation, which is as follows:\n",
        "\n",
        "```java\n",
        "// Say you have myArray:\n",
        "int[][] myArray = {\n",
        "    {1, 2, 3},\n",
        "    {4, 5, 6},\n",
        "    {7, 8, 9}\n",
        "};\n",
        "\n",
        "// To access the third number of the third column, use array indexing notation:\n",
        "int desiredValue = myArray[2][2]; // REMEMBER BASE 0!\n",
        "\n",
        "// And print the value:\n",
        "System.out.print(desiredValue);\n",
        "```\n",
        "Assign the \"coordinate point\" of the desired value as a variable, using the \"x\" value for row number and \"y\" value for column number."
      ]
    },
    {
      "cell_type": "code",
      "execution_count": null,
      "metadata": {
        "vscode": {
          "languageId": "java"
        },
        "id": "Vf-vuujH7AV1",
        "outputId": "57da17ba-941c-40ad-e5d4-e0512114470c"
      },
      "outputs": [
        {
          "name": "stdout",
          "output_type": "stream",
          "text": [
            "9"
          ]
        }
      ],
      "source": [
        "// Executable Version:\n",
        "public class Main {\n",
        "    public static void main(String[] args) {\n",
        "        int[][] myArray = {\n",
        "            {1, 2, 3},\n",
        "            {4, 5, 6},\n",
        "            {7, 8, 9}\n",
        "        };\n",
        "\n",
        "        int desiredValue = myArray[2][2];\n",
        "\n",
        "        System.out.print(desiredValue);\n",
        "\n",
        "    }\n",
        "}\n",
        "\n",
        "Main.main(null)"
      ]
    },
    {
      "cell_type": "markdown",
      "metadata": {
        "id": "EbKk2j6A7AV1"
      },
      "source": [
        "In order to update the value of a specific point in a 2D array, assign the desired value to a specific point in the array, denoted by array indexing notation:\n",
        "\n",
        "```java\n",
        "// Say you have myArray:\n",
        "int[][] myArray = {\n",
        "    {1, 2, 3},\n",
        "    {4, 5, 6},\n",
        "    {7, 8, 9}\n",
        "};\n",
        "\n",
        "// To change the third number of the third column, use array indexing notation:\n",
        "int desiredValue = 10; // Define what you want the new value to be.\n",
        "myArray[2][2] = desiredValue; // Use array indexing notation to insert the desired value at the specific desired point.\n",
        "\n",
        "// And print the updated value at the desired location:\n",
        "System.out.print(myArray[2][2]);\n",
        "```"
      ]
    },
    {
      "cell_type": "code",
      "execution_count": null,
      "metadata": {
        "vscode": {
          "languageId": "java"
        },
        "id": "MkunsFSu7AV1",
        "outputId": "2ff2bb92-50e9-420b-e1c1-601669818c9e"
      },
      "outputs": [
        {
          "name": "stdout",
          "output_type": "stream",
          "text": [
            "10"
          ]
        }
      ],
      "source": [
        "// Executable Version:\n",
        "public class Main {\n",
        "    public static void main(String[] args) {\n",
        "        int[][] myArray = {\n",
        "            {1, 2, 3},\n",
        "            {4, 5, 6},\n",
        "            {7, 8, 9}\n",
        "        };\n",
        "\n",
        "        int desiredValue = 10;\n",
        "        myArray[2][2] = desiredValue;\n",
        "\n",
        "        System.out.print(myArray[2][2]);\n",
        "\n",
        "    }\n",
        "}\n",
        "\n",
        "Main.main(null)"
      ]
    },
    {
      "cell_type": "markdown",
      "metadata": {
        "id": "lSRS4iOH7AV1"
      },
      "source": [
        "### Popcorn Hack: Print all the values on this 2D Array and update the last value to be 12."
      ]
    },
    {
      "cell_type": "code",
      "execution_count": null,
      "metadata": {
        "vscode": {
          "languageId": "java"
        },
        "id": "eOePK1m-7AV2"
      },
      "outputs": [],
      "source": [
        "public class Main {\n",
        "    public static void main(String[] args) {\n",
        "        int[][] myArray = {\n",
        "            {1, 2, 3},\n",
        "            {4, 5, 6},\n",
        "            {7, 8, 9}\n",
        "        };\n",
        "\n",
        "        // Print all values in the 2D array\n",
        "        for (int i = 0; i < myArray.length; i++) {\n",
        "            for (int j = 0; j < myArray[i].length; j++) {\n",
        "                System.out.print(myArray[i][j] + \" \");\n",
        "            }\n",
        "        }\n",
        "        System.out.println(); // Print a newline to separate from the update\n",
        "\n",
        "        // Update the last value to be 12\n",
        "        int numRows = myArray.length;\n",
        "        int numCols = myArray[numRows - 1].length;\n",
        "        myArray[numRows - 1][numCols - 1] = 12;\n",
        "\n",
        "        // Print the updated array\n",
        "        for (int i = 0; i < myArray.length; i++) {\n",
        "            for (int j = 0; j < myArray[i].length; j++) {\n",
        "                System.out.print(myArray[i][j] + \" \");\n",
        "            }\n",
        "        }\n",
        "    }\n",
        "}"
      ]
    },
    {
      "cell_type": "markdown",
      "metadata": {
        "id": "mIb1ydip7AV2"
      },
      "source": []
    },
    {
      "cell_type": "markdown",
      "metadata": {
        "id": "nAkeB42-7AV2"
      },
      "source": [
        "## 3) Traversing 2D Arrays\n",
        "- When we traverse a regular array we use a singular for loop to iterate through each element in the array. However, when we have 2D array we need to use nested for loops to iterate through each element in the array. Below is the difference between the two:\n",
        "\n",
        "```java\n",
        "// Regular array traversal\n",
        "for(int i = 0; i < myArray.length; i++){\n",
        "    System.out.println(myArray[i]);\n",
        "}\n",
        "\n",
        "// 2D array traversal\n",
        "for(int i = 0; i < myArray.length; i++){\n",
        "    for(int j = 0; j < myArray[i].length; j++){\n",
        "        System.out.println(myArray[i][j]);\n",
        "    }\n",
        "}\n",
        "```"
      ]
    },
    {
      "cell_type": "code",
      "execution_count": null,
      "metadata": {
        "vscode": {
          "languageId": "java"
        },
        "id": "fCia8W6J7AV2",
        "outputId": "1cc99d06-c7e3-41fa-8d2f-6f7895cfb6a7"
      },
      "outputs": [
        {
          "name": "stdout",
          "output_type": "stream",
          "text": [
            "1D Array\n",
            "\n",
            "1 2 3 4 5 6 7 8 9 \n",
            "\n",
            "2D Array\n",
            "\n",
            "1 2 3 \n",
            "4 5 6 \n",
            "7 8 9 \n"
          ]
        }
      ],
      "source": [
        "public class Main {\n",
        "    public static void main(String[] args){\n",
        "        int[] myArray = {1, 2, 3, 4, 5, 6, 7, 8, 9}; // 1d array of integers\n",
        "        int[][] my2dArray = { // 2d array of integers\n",
        "            {1, 2, 3},\n",
        "            {4, 5, 6},\n",
        "            {7, 8, 9}\n",
        "        };\n",
        "\n",
        "        System.out.println(\"1D Array\\n\"); // Print a new line\n",
        "\n",
        "        for (int i = 0; i < myArray.length; i++) { // Loop through the 1d array\n",
        "            System.out.print(myArray[i] + \" \"); // Print out the element\n",
        "        }\n",
        "\n",
        "        System.out.println(\"\\n\\n2D Array\\n\"); // Print a new line\n",
        "\n",
        "\n",
        "        for (int i = 0; i < my2dArray.length; i++) { // First traversal condition\n",
        "            for (int j = 0; j < my2dArray[i].length; j++) { // Second traversal condition\n",
        "                System.out.print(my2dArray[i][j] + \" \"); // Print out the element\n",
        "            }\n",
        "            System.out.println(); // Print a new line\n",
        "        }\n",
        "    }\n",
        "}\n",
        "\n",
        "Main.main(null)"
      ]
    },
    {
      "cell_type": "markdown",
      "metadata": {
        "id": "YPlh8yyz7AV2"
      },
      "source": [
        "### Popcorn Hack: Traverse the following array and only print the values divisible by 7"
      ]
    },
    {
      "cell_type": "code",
      "execution_count": null,
      "metadata": {
        "vscode": {
          "languageId": "java"
        },
        "id": "NDTYYCt47AV2"
      },
      "outputs": [],
      "source": [
        "public class Main {\n",
        "    public static void main(String[] args) {\n",
        "        int[][] myArray = {\n",
        "            {1, 2, 11},\n",
        "            {14, 5, 21},\n",
        "            {25, 28, 70}\n",
        "        };\n",
        "\n",
        "        for (int i = 0; i < myArray.length; i++) {\n",
        "            for (int j = 0; j < myArray[i].length; j++) {\n",
        "                if (myArray[i][j] % 7 == 0) {\n",
        "                    System.out.println(myArray[i][j]);\n",
        "                }\n",
        "            }\n",
        "        }\n",
        "    }\n",
        "}"
      ]
    },
    {
      "cell_type": "markdown",
      "metadata": {
        "id": "LACUlUbd7AV2"
      },
      "source": [
        "## Row-Major Order vs Column-Major Order\n",
        "\n",
        "### Row-Major-Order:\n",
        "- The outer loop traverses the rows and the inner loop traverses the columns or the elements within the rows. Here is an example bellow of row-major order traversals:"
      ]
    },
    {
      "cell_type": "code",
      "execution_count": null,
      "metadata": {
        "vscode": {
          "languageId": "java"
        },
        "id": "amB9nsO07AV3",
        "outputId": "f9fcdb0d-4559-4fa8-947f-516d1143008f"
      },
      "outputs": [
        {
          "name": "stdout",
          "output_type": "stream",
          "text": [
            "Row Major Order\n",
            "\n",
            "0 2 0 \n",
            "4 0 6 \n",
            "0 8 0 \n"
          ]
        }
      ],
      "source": [
        "public class rowMajorOrder {\n",
        "    public static void main(String[] args){\n",
        "        int[][] my2dArray = { // 2d array of integers\n",
        "            {1, 2, 3},\n",
        "            {4, 5, 6},\n",
        "            {7, 8, 9}\n",
        "        };\n",
        "\n",
        "        System.out.println(\"Row Major Order\\n\"); // Print a new line\n",
        "\n",
        "        for (int i = 0; i < my2dArray.length; i++) { // First traversal traverses by rows condition\n",
        "\n",
        "            for (int j = 0; j < my2dArray[i].length; j++) { // Iterates through the columns\n",
        "                if (my2dArray[i][j] % 2 == 0) { // If the element is even\n",
        "                } else{\n",
        "                    my2dArray[i][j] = 0; // Otherwise set the element to 0\n",
        "                }\n",
        "                System.out.print(my2dArray[i][j] + \" \"); // Print out the element\n",
        "            }\n",
        "            System.out.println(); // Print a new line\n",
        "        }\n",
        "    }\n",
        "}\n",
        "\n",
        "rowMajorOrder.main(null)"
      ]
    },
    {
      "cell_type": "code",
      "execution_count": null,
      "metadata": {
        "vscode": {
          "languageId": "java"
        },
        "id": "PKgA6Hqm7AV3",
        "outputId": "1a5b024a-9d51-4166-b5ed-b4bece5becd6"
      },
      "outputs": [
        {
          "name": "stdout",
          "output_type": "stream",
          "text": [
            "1 2 3 \n",
            "4 5 6 \n",
            "7 8 9 \n"
          ]
        }
      ],
      "source": [
        "// Variation that only applies to forward row-wise major traversal\n",
        "\n",
        "public class rowMajorTraversalAlt{\n",
        "    public static void rowMajorOrderAlt(int[][] array){\n",
        "        for (int[] row: array){\n",
        "            for (int element: row){\n",
        "                System.out.print(element + \" \");\n",
        "            }\n",
        "            System.out.println();\n",
        "        }\n",
        "    }\n",
        "}\n",
        "\n",
        "rowMajorTraversalAlt.rowMajorOrderAlt(new int[][]{\n",
        "    {1, 2, 3},\n",
        "    {4, 5, 6},\n",
        "    {7, 8, 9}\n",
        "});"
      ]
    },
    {
      "cell_type": "markdown",
      "metadata": {
        "id": "xrO5fRnV7AV3"
      },
      "source": [
        "### Column-Major-Order:\n",
        "- The outer loop will traverse through the columns and the inner loop will traverses through each element in the columns or the rows. Here is an example bellow of column-major order traversals:"
      ]
    },
    {
      "cell_type": "code",
      "execution_count": null,
      "metadata": {
        "vscode": {
          "languageId": "java"
        },
        "id": "VxYhiEWG7AV3",
        "outputId": "5c48f998-072b-4b69-f7b9-27d97c1134cf"
      },
      "outputs": [
        {
          "name": "stdout",
          "output_type": "stream",
          "text": [
            "Column Wise Traversal\n",
            "\n",
            "0 2 0 \n",
            "4 0 6 \n",
            "0 8 0 \n"
          ]
        }
      ],
      "source": [
        "public class columnWiseTraversal{\n",
        "    public static void main(String[] args){\n",
        "        int[][] my2dArray = { // 2d array of integers\n",
        "            {1, 2, 3},\n",
        "            {4, 5, 6},\n",
        "            {7, 8, 9}\n",
        "        };\n",
        "\n",
        "        System.out.println(\"Column Wise Traversal\\n\"); // Print a new line\n",
        "\n",
        "        for (int j = 0; j < my2dArray[0].length; j++) { // First traversal traverses by columns condition\n",
        "\n",
        "            for (int i = 0; i < my2dArray.length; i++) { // Iterates through the rows\n",
        "                if (my2dArray[j][i] % 2 == 0) { // If the element is even\n",
        "                } else{\n",
        "                    my2dArray[j][i] = 0; // Otherwise set the element to 0\n",
        "                }\n",
        "                System.out.print(my2dArray[j][i] + \" \"); // Print out the element\n",
        "            }\n",
        "            System.out.println(); // Print a new line\n",
        "        }\n",
        "    }\n",
        "}\n",
        "\n",
        "columnWiseTraversal.main(null)\n",
        "\n",
        "// Both row and column wise traversals in our examples do the same thing, but in different orders. However for certain functions one may be easier to use than the other.\n"
      ]
    },
    {
      "cell_type": "markdown",
      "metadata": {
        "id": "LRYsKz1d7AV3"
      },
      "source": [
        "# Algoirthms 2D Array Java"
      ]
    },
    {
      "cell_type": "markdown",
      "metadata": {
        "id": "0oHJRw637AV3"
      },
      "source": [
        "Linear search is a simple and sequential searching algorithm. It is used to find whether a particular element is present in the array or not by traversing every element in the array. While searching in the 2D array is exactly the same but here all the cells need to be traversed In this way, any element is searched in a 2D array.\n",
        "\n",
        "Below is the implementation for linear search in 2D arrays"
      ]
    },
    {
      "cell_type": "code",
      "execution_count": null,
      "metadata": {
        "vscode": {
          "languageId": "java"
        },
        "id": "jupyXOMN7AV3"
      },
      "outputs": [],
      "source": [
        "// Linear Search in 2D arrays\n",
        "import java.util.Arrays;\n",
        "\n",
        "public class GFG {\n",
        "    public static void main(String[] args)\n",
        "    {\n",
        "        int arr[][] = { { 3, 12, 9 },\n",
        "                        { 5, 2, 89 },\n",
        "                        { 90, 45, 22 } };\n",
        "        int target = 89;\n",
        "        int ans[] = linearSearch(arr, target);\n",
        "        System.out.println(\"Element found at index: \"\n",
        "                           + Arrays.toString(ans));\n",
        "    }\n",
        "\n",
        "    static int[] linearSearch(int[][] arr, int target)\n",
        "    {\n",
        "        for (int i = 0; i < arr.length; i++) {\n",
        "            for (int j = 0; j < arr[i].length; j++) {\n",
        "                if (arr[i][j] == target) {\n",
        "                    return new int[] { i, j };\n",
        "                }\n",
        "            }\n",
        "        }\n",
        "        return new int[] { -1, -1 };\n",
        "    }\n",
        "}"
      ]
    },
    {
      "cell_type": "markdown",
      "metadata": {
        "id": "BGAt_SN07AV3"
      },
      "source": [
        "Summary:\n",
        "Linear Search involves iterating through all elements in the matrix.\n",
        "Binary Search is applicable when the matrix is sorted.\n",
        "Binary Search treats the 2D matrix as a 1D array by converting the indices.\n",
        "These searching algorithms are fundamental and widely used. Practice applying them to different scenarios to solidify your understanding. Additionally, consider exploring more advanced searching techniques for 2D arrays as you become more proficient."
      ]
    },
    {
      "cell_type": "code",
      "execution_count": null,
      "metadata": {
        "vscode": {
          "languageId": "java"
        },
        "id": "Vb_056aq7AV4"
      },
      "outputs": [],
      "source": [
        "public class Main {\n",
        "    public static int[] binarySearch(int[][] matrix, int target) {\n",
        "        int rows = matrix.length;\n",
        "        int cols = matrix[0].length;\n",
        "        int left = 0;\n",
        "        int right = rows * cols - 1;\n",
        "\n",
        "        while (left <= right) {\n",
        "            int mid = left + (right - left) / 2;\n",
        "            int midValue = matrix[mid / cols][mid % cols];\n",
        "\n",
        "            if (midValue == target) {\n",
        "                return new int[] {mid / cols, mid % cols};\n",
        "            }\n",
        "\n",
        "            if (midValue < target) {\n",
        "                left = mid + 1;\n",
        "            } else {\n",
        "                right = mid - 1;\n",
        "            }\n",
        "        }\n",
        "\n",
        "        return new int[] {-1, -1}; // Target not found\n",
        "    }\n",
        "}\n"
      ]
    },
    {
      "cell_type": "markdown",
      "metadata": {
        "id": "tec6tcKK7AV4"
      },
      "source": [
        "### Binary Search in a 2D Array:\n",
        "\n",
        "Binary search is an efficient method of searching in an array. Binary search works on a sorted array. At each iteration the search space is divided in half, this is the reason why binary search is more efficient than linear search"
      ]
    },
    {
      "cell_type": "code",
      "execution_count": null,
      "metadata": {
        "vscode": {
          "languageId": "java"
        },
        "id": "G-H_cmjk7AV4"
      },
      "outputs": [],
      "source": [
        "// Binary Search on sorted 2D array\n",
        "import java.util.Arrays;\n",
        "\n",
        "class GFG {\n",
        "\n",
        "    static int[] findAns(int[][] arr, int target)\n",
        "    {\n",
        "        int row = 0;\n",
        "        int col = arr[row].length - 1;\n",
        "        while (row < arr.length && col >= 0) {\n",
        "            if (arr[row][col] == target) {\n",
        "                return new int[] { row, col };\n",
        "            }\n",
        "\n",
        "            // Target lies in further row\n",
        "            if (arr[row][col] < target) {\n",
        "                row++;\n",
        "            }\n",
        "            // Target lies in previous column\n",
        "            else {\n",
        "                col--;\n",
        "            }\n",
        "        }\n",
        "        return new int[] { -1, -1 };\n",
        "    }\n",
        "\n",
        "    // Driver Code\n",
        "    public static void main(String[] args)\n",
        "    {\n",
        "\n",
        "        // Binary search in sorted matrix\n",
        "        int arr[][] = { { 1, 2, 3, 4 },\n",
        "                        { 5, 6, 7, 8 },\n",
        "                        { 9, 10, 11, 12 } };\n",
        "        int[] ans = findAns(arr, 12);\n",
        "        System.out.println(\"Element found at index: \"\n",
        "                           + Arrays.toString(ans));\n",
        "    }\n",
        "}"
      ]
    },
    {
      "cell_type": "markdown",
      "metadata": {
        "id": "1BDS1S_x7AV4"
      },
      "source": [
        "# Enhanced For-Each Loop for 2D Arrays\n",
        "Since 2D arrays are really arrays of arrays you can also use a nested enhanced for-each loop to loop through all elements in an array. We loop through each of the inner arrays and loop through all the values in each inner array. Notice the type of the outer loop array variable – it is an array that will hold each row, String[] in the example below for a 2D String array. The type of the variables in the for-each loops must match the type of the array. For-each loops are much simpler since you don’t have to use the indices and the []’s, but you can only use them if you are not going to change the values in an array of primitive types since the variable val below will not change the original array.\n",
        "\n"
      ]
    },
    {
      "cell_type": "code",
      "execution_count": null,
      "metadata": {
        "vscode": {
          "languageId": "java"
        },
        "id": "W9KrFhVP7AV4"
      },
      "outputs": [],
      "source": [
        "String[][] array;\n",
        "// Nested For-each loops that traverse a 2D String array\n",
        "for (String[] innerArray : array)\n",
        "{\n",
        "   for (String val : innerArray)\n",
        "   {\n",
        "       System.out.println(val);\n",
        "   }\n",
        "}"
      ]
    },
    {
      "cell_type": "code",
      "execution_count": null,
      "metadata": {
        "vscode": {
          "languageId": "java"
        },
        "id": "OotHwGvS7AV4",
        "outputId": "838ec79e-6b8d-4411-bf23-c2ccc457ce46"
      },
      "outputs": [
        {
          "name": "stdout",
          "output_type": "stream",
          "text": [
            "69.16666666666667\n"
          ]
        }
      ],
      "source": [
        "public class Average\n",
        "{\n",
        "\n",
        "    public static double getAvg(int[][] a)\n",
        "    {\n",
        "        double total = 0;\n",
        "        for (int[] innerArray : a)\n",
        "        {\n",
        "            for (int val : innerArray)\n",
        "            {\n",
        "                total = total + val;\n",
        "            }\n",
        "        }\n",
        "        return total / (a.length * a[0].length);\n",
        "    }\n",
        "\n",
        "    public static void main(String[] args)\n",
        "    {\n",
        "        int[][] theArray = { {80, 90, 70}, {20, 80, 75}};\n",
        "        System.out.println(getAvg(theArray));\n",
        "    }\n",
        "}\n",
        "\n",
        "Average.main(null);"
      ]
    },
    {
      "cell_type": "markdown",
      "metadata": {
        "id": "mQIWwPr17AV4"
      },
      "source": [
        "# 4) How to create an algorithm that involves traversing a 2D Array\n",
        "\n",
        "During the APCSA AP exam, we will be required to write an algorithm for a 2D array that solves a problem discussed in the prompt. Collegeboard will give you a situation, and you will have to write an algorithm based on said situation.\n",
        "\n",
        "Here's an example of an algorithm that was needed for the real Collegeboard APCSA exam in 2022:"
      ]
    },
    {
      "cell_type": "markdown",
      "metadata": {
        "id": "Cuo-fslr7AV4"
      },
      "source": [
        "For this problem, the question asked for the student to write the `countIncreasingCols` method, which returns the number of columns in `grid` that are in increasing order. `grid` is a 2D array with randomly populated numbers."
      ]
    },
    {
      "cell_type": "code",
      "execution_count": null,
      "metadata": {
        "vscode": {
          "languageId": "java"
        },
        "id": "BfddRyJA7AV5"
      },
      "outputs": [],
      "source": [
        "public int countIncreaseCols() {\n",
        "    int count = 0;\n",
        "    for (int j = 0; j < grid[0].length; j++) { // Iterates through columns\n",
        "        boolean isIncreasing = true;\n",
        "        if (grid[0].length > 1) { // Checks if there is more than one column to prevent out of bounds error\n",
        "            for (int i = 1; i < grid.length; i++) {  // Iterates through rows\n",
        "                if (grid[i][j] <= grid[i - 1][j]) { // Checks if the current element is less than or equal to the previous element\n",
        "                    isIncreasing = false; // If so set isIncreasing to false and break out of loop\n",
        "                    break;\n",
        "                }\n",
        "            }\n",
        "\n",
        "            if (isIncreasing) { // If the column is increasing increment count as if\n",
        "                count++;        // the value is not less than or equal to the previous\n",
        "                                // element then it must be increasing\n",
        "            }\n",
        "        }\n",
        "\n",
        "        else if (grid[0].length == 1) { // To match the criteria of a single column being increasing\n",
        "            count++;\n",
        "        }\n",
        "\n",
        "        else { // If there are no columns then break out of loop\n",
        "            break;\n",
        "        }\n",
        "    }\n",
        "    return count;\n",
        "}"
      ]
    },
    {
      "cell_type": "markdown",
      "metadata": {
        "id": "X6-8HuiF7AV5"
      },
      "source": [
        "# Hacks:"
      ]
    },
    {
      "cell_type": "markdown",
      "metadata": {
        "id": "1Ja_VSHD7AV5"
      },
      "source": [
        "### 1)\n",
        "Initialize a 5 x 5 2D array that is populated by random values."
      ]
    },
    {
      "cell_type": "code",
      "execution_count": null,
      "metadata": {
        "vscode": {
          "languageId": "java"
        },
        "id": "ya1TU0Bm7AV5"
      },
      "outputs": [],
      "source": [
        " import java.util.Random;\n",
        "\n",
        "public class random2DA {\n",
        "    public static void main(String[] args) {\n",
        "        int[][] randomArray = new int[5][5];\n",
        "        Random random = new Random();\n",
        "\n",
        "        for (int i = 0; i < 5; i++) {\n",
        "            for (int j = 0; j < 5; j++) {\n",
        "                // Generate random values and store them in the array\n",
        "                randomArray[i][j] = random.nextInt(100); // Here, 100 is the upper bound for the random values (adjust as needed).\n",
        "            }\n",
        "        }\n",
        "\n",
        "        // Print the random 2D array\n",
        "        for (int i = 0; i < 5; i++) {\n",
        "            for (int j = 0; j < 5; j++) {\n",
        "                System.out.print(randomArray[i][j] + \" \");\n",
        "            }\n",
        "            System.out.println();\n",
        "        }\n",
        "    }\n",
        "}"
      ]
    },
    {
      "cell_type": "markdown",
      "metadata": {
        "id": "6gR2AD-F7AV5"
      },
      "source": [
        "### 2)\n",
        "- a) Print the values 47, 51, and 20 by accessing them in the the given two-dimensional array.\n",
        "- b) Find the values from part a) using row major and column major order and print the values in each respective order."
      ]
    },
    {
      "cell_type": "code",
      "execution_count": null,
      "metadata": {
        "vscode": {
          "languageId": "java"
        },
        "id": "WlV8sSAf7AV5"
      },
      "outputs": [],
      "source": [
        "public class Problem2 {\n",
        "    public static void main(String[] args) {\n",
        "        int[][] arr = { {47, 3, 12}, {51, 74, 20} };\n",
        "\n",
        "        // Part a: Print the values 47, 51, and 20 by accessing them in the 2D array.\n",
        "        int value47 = arr[0][0];\n",
        "        int value51 = arr[1][0];\n",
        "        int value20 = arr[1][2];\n",
        "\n",
        "        System.out.println(\"Part a:\");\n",
        "        System.out.println(\"Value at (0, 0): \" + value47);\n",
        "        System.out.println(\"Value at (1, 0): \" + value51);\n",
        "        System.out.println(\"Value at (1, 2): \" + value20);\n",
        "\n",
        "        // Part b: Find the values from part a) using row-major and column-major order.\n",
        "        System.out.println(\"\\nPart b:\");\n",
        "        System.out.println(\"Row-Major Order:\");\n",
        "        System.out.println(\"Value at (0, 0): \" + arr[0][0]);\n",
        "        System.out.println(\"Value at (0, 1): \" + arr[0][1]);\n",
        "        System.out.println(\"Value at (0, 2): \" + arr[0][2]);\n",
        "        System.out.println(\"Value at (1, 0): \" + arr[1][0]);\n",
        "        System.out.println(\"Value at (1, 1): \" + arr[1][1]);\n",
        "        System.out.println(\"Value at (1, 2): \" + arr[1][2]);\n",
        "\n",
        "        System.out.println(\"\\nColumn-Major Order:\");\n",
        "        System.out.println(\"Value at (0, 0): \" + arr[0][0]);\n",
        "        System.out.println(\"Value at (1, 0): \" + arr[1][0]);\n",
        "        System.out.println(\"Value at (0, 1): \" + arr[0][1]);\n",
        "        System.out.println(\"Value at (1, 1): \" + arr[1][1]);\n",
        "        System.out.println(\"Value at (0, 2): \" + arr[0][2]);\n",
        "        System.out.println(\"Value at (1, 2): \" + arr[1][2);\n",
        "    }\n",
        "}"
      ]
    },
    {
      "cell_type": "markdown",
      "metadata": {
        "id": "Xxrnfss57AV5"
      },
      "source": [
        "### 3)\n",
        "The following 2d array `myArray` is populated with integers 1-9. Write an algorithm thath sorts the 2D array by column and returnst the values of the array in increaing order.\n",
        "\n",
        "The expected output is:\n",
        "`1 4 7`<br>\n",
        "`2 5 8`<br>\n",
        "`3 6 9`<br>\n",
        "\n"
      ]
    },
    {
      "cell_type": "code",
      "execution_count": null,
      "metadata": {
        "vscode": {
          "languageId": "java"
        },
        "id": "sfqgm5qG7AV5"
      },
      "outputs": [],
      "source": [
        "public class Problem3 {\n",
        "    public static void main(String[] args) {\n",
        "        int[][] MyArray = {\n",
        "            {1, 2, 3},\n",
        "            {4, 5, 6},\n",
        "            {7, 8, 9}\n",
        "        };\n",
        "\n",
        "        int rows = MyArray.length;\n",
        "        int cols = MyArray[0].length;\n",
        "\n",
        "        // Transpose the 2D array to make columns into rows\n",
        "        int[][] transposedArray = new int[cols][rows];\n",
        "        for (int i = 0; i < rows; i++) {\n",
        "            for (int j = 0; j < cols; j++) {\n",
        "                transposedArray[j][i] = MyArray[i][j];\n",
        "            }\n",
        "        }\n",
        "\n",
        "        // Sort each row (previously columns) in increasing order\n",
        "        for (int i = 0; i < cols; i++) {\n",
        "            Arrays.sort(transposedArray[i]);\n",
        "        }\n",
        "\n",
        "        // Transpose the sorted array back to the original format\n",
        "        int[][] sortedArray = new int[rows][cols];\n",
        "        for (int i = 0; i < cols; i++) {\n",
        "            for (int j = 0; j < rows; j++) {\n",
        "                sortedArray[j][i] = transposedArray[i][j];\n",
        "            }\n",
        "        }\n",
        "\n",
        "        // Print the sorted 2D array\n",
        "        for (int i = 0; i < rows; i++) {\n",
        "            for (int j = 0; j < cols; j++) {\n",
        "                System.out.print(sortedArray[i][j] + \" \");\n",
        "            }\n",
        "            System.out.println();\n",
        "        }\n",
        "    }\n",
        "}"
      ]
    },
    {
      "cell_type": "markdown",
      "metadata": {
        "id": "IQOudi2d7AV5"
      },
      "source": [
        "### 4)\n",
        "Replace the “ADD CODE HERE” below with the code to declare and create a 3 by 3 two-dimensional int array named table. The finished code will print the values 0 to 8."
      ]
    },
    {
      "cell_type": "code",
      "execution_count": null,
      "metadata": {
        "vscode": {
          "languageId": "java"
        },
        "id": "hSBoEyI97AV5"
      },
      "outputs": [],
      "source": [
        "public class Test1\n",
        "{\n",
        "\n",
        "    public static void main(String[] args)\n",
        "    {\n",
        "        // Declare and create a 3x3 two-dimensional int array\n",
        "        int[][] table = new int[3][3];\n",
        "\n",
        "        // Should print the values in table\n",
        "        int count = 0;\n",
        "        for (int row = 0; row < table.length; row++)\n",
        "        {\n",
        "            for (int col = 0; col < table[row].length; col++)\n",
        "            {\n",
        "                table[row][col] = count;\n",
        "                count++;\n",
        "                System.out.print(table[row][col] + \" \");\n",
        "            }\n",
        "        }\n",
        "    }\n",
        "}\n"
      ]
    },
    {
      "cell_type": "markdown",
      "metadata": {
        "id": "ldNgfvwO7AV6"
      },
      "source": [
        "### 5)\n",
        "Replace the “ADD CODE HERE” below with the code to declare and initialize a two-dimensional String array called students with the names “Brice, Marvin, Anna” in the first row and “Kamal, Maria, Elissa” in the second. The finished code will print all the names in the array starting with all in the first row followed by all in the second row."
      ]
    },
    {
      "cell_type": "code",
      "execution_count": null,
      "metadata": {
        "vscode": {
          "languageId": "java"
        },
        "id": "ufIdQvoJ7AV6"
      },
      "outputs": [],
      "source": [
        "public class Test1\n",
        "{\n",
        "    public static void main(String[] args)\n",
        "    {\n",
        "        // Declare and initialize the two-dimensional String array\n",
        "        String[][] students = {\n",
        "            {\"Brice\", \"Marvin\", \"Anna\"},\n",
        "            {\"Kamal\", \"Maria\", \"Elissa\"}\n",
        "        };\n",
        "\n",
        "        // Should print the values in students in order\n",
        "        for (int row = 0; row < students.length; row++)\n",
        "        {\n",
        "            for (int col = 0; col < students[row].length; col++)\n",
        "            {\n",
        "                System.out.print(students[row][col] + \" \");\n",
        "            }\n",
        "        }\n",
        "    }\n",
        "}"
      ]
    }
  ],
  "metadata": {
    "kernelspec": {
      "display_name": "Java",
      "language": "java",
      "name": "java"
    },
    "language_info": {
      "codemirror_mode": "java",
      "file_extension": ".jshell",
      "mimetype": "text/x-java-source",
      "name": "Java",
      "pygments_lexer": "java",
      "version": "11.0.17+8-post-Ubuntu-1ubuntu220.04"
    },
    "orig_nbformat": 4,
    "colab": {
      "provenance": []
    }
  },
  "nbformat": 4,
  "nbformat_minor": 0
}
