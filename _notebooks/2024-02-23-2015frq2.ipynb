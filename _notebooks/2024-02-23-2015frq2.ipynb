{
  "cells": [
    {
      "cell_type": "markdown",
      "metadata": {
        "id": "acR698JjNl2D"
      },
      "source": [
        "---\n",
        "layout: post\n",
        "title: 2015 FRQ Question 2\n",
        "toc: true\n",
        "comments: true\n",
        "description: Classes FRQ\n",
        "courses: { csa: {week: 24} }\n",
        "type: tangibles\n",
        "---"
      ]
    },
    {
      "cell_type": "markdown",
      "metadata": {
        "id": "DTSsJIJNNl2E"
      },
      "source": [
        "# Question 2: Classes"
      ]
    },
    {
      "cell_type": "markdown",
      "metadata": {
        "id": "cTVM9d41Nl2E"
      },
      "source": [
        "Write the complete HiddenWord class, including any necessary instance variables, its constructor, and the method, getHint, described above. You may assume that the length of the guess is the same as the length of the hidden word."
      ]
    },
    {
      "cell_type": "code",
      "execution_count": null,
      "metadata": {
        "vscode": {
          "languageId": "java"
        },
        "id": "rV8C3xPJNl2E",
        "outputId": "60adb1a5-e46b-482c-b7bf-711ff1400e9f"
      },
      "outputs": [
        {
          "name": "stdout",
          "output_type": "stream",
          "text": [
            "LET'S PLAY WORDLE!\n",
            "Attempt 1: Enter your guess: HEART\n",
            "Hint: H*++*\n",
            "Try again! Attempts left: 5\n",
            "Attempt 2: Enter your guess: HARPS\n",
            "Hint: HARPS\n",
            "CONGRATS! You've guessed the word of the day: HARPS\n"
          ]
        }
      ],
      "source": [
        "import java.util.Scanner;\n",
        "\n",
        "public class HiddenWord {\n",
        "    private String word;\n",
        "\n",
        "    public HiddenWord(String hWord) {\n",
        "        word = hWord;\n",
        "    }\n",
        "\n",
        "    public String getHint(String guess) {\n",
        "        String hint = \"\";\n",
        "        for (int i = 0; i < guess.length(); i++) {\n",
        "            if (guess.substring(i, i + 1).equals(word.substring(i, i + 1))) {\n",
        "                hint += guess.substring(i, i + 1);\n",
        "            } else if (word.indexOf(guess.substring(i, i + 1)) != -1) {\n",
        "                hint += \"+\";\n",
        "            } else {\n",
        "                hint += \"*\";\n",
        "            }\n",
        "        }\n",
        "        return hint;\n",
        "    }\n",
        "\n",
        "    public static void main(String[] args) {\n",
        "    HiddenWord puzzle = new HiddenWord(\"HARPS\");\n",
        "    Scanner scanner = new Scanner(System.in);\n",
        "\n",
        "    System.out.println(\"LET'S PLAY WORDLE!\");\n",
        "\n",
        "    int attempts = 0;\n",
        "    while (true) {\n",
        "        attempts++;\n",
        "        System.out.print(\"Attempt \" + attempts + \": Enter your guess: \");\n",
        "        String guess = scanner.nextLine().toUpperCase();\n",
        "\n",
        "        String hint = puzzle.getHint(guess);\n",
        "        System.out.println(\"Hint: \" + hint);\n",
        "\n",
        "        if (hint.equals(puzzle.word)) {\n",
        "            System.out.println(\"CONGRATS! You've guessed the word of the day: \" + puzzle.word);\n",
        "            break;\n",
        "        } else if (attempts >= 6) {\n",
        "            System.out.println(\"Sorry, you've run out of attempts. The word was: \" + puzzle.word);\n",
        "            break;\n",
        "        } else {\n",
        "            System.out.println(\"Try again! Attempts left: \" + (6 - attempts));\n",
        "        }\n",
        "    }\n",
        "\n",
        "    scanner.close();\n",
        "}\n",
        "}\n",
        "\n",
        "HiddenWord.main(null);"
      ]
    },
    {
      "cell_type": "markdown",
      "metadata": {
        "id": "gVlSdsSkNl2E"
      },
      "source": [
        "## Explanation\n",
        "I started designing this class by first initializing a private instance variable called 'word' to store the hidden word. The class has a constructor that takes the hidden word as an argument and initializes the `word` variable with it. The most important method in this class is the `getHint` method. This method takes a player's guess as input and returns a hint based on the comparison between the guess and the hidden word. It iterates through each character in the guess and compares it with the corresponding character in the hidden word. If the characters match, it adds the character to the hint. If the character exists in the hidden word but in a different position, it adds a '+' to the hint. If the character does not exist in the hidden word, it adds a '*' to the hint. In order to test it in a creative manner, I made the HiddenWord guided user interface (GUI) similar to the popular word game Wordle. I did this because I was unable to make this similar to my project.\n",
        "\n",
        "The code segment below shows an example of another class I created for my project for the Night at the Museum (NaTM)"
      ]
    },
    {
      "cell_type": "code",
      "execution_count": null,
      "metadata": {
        "vscode": {
          "languageId": "java"
        },
        "id": "BKC7-xOVNl2F"
      },
      "outputs": [],
      "source": [
        "package com.nighthawk.spring_portfolio.mvc.knn;\n",
        "\n",
        "import java.util.List;\n",
        "\n",
        "public class Worker {\n",
        "    private String name;\n",
        "    List<String> languagesKnown;\n",
        "    String preferredLocation;\n",
        "    private boolean internshipPreferred;\n",
        "\n",
        "    // Constructors\n",
        "\n",
        "    public Worker(String name, List<String> languagesKnown, String preferredLocation,\n",
        "            boolean internshipPreferred) {\n",
        "        this.name = name;\n",
        "        this.languagesKnown = languagesKnown;\n",
        "        this.preferredLocation = preferredLocation;\n",
        "        this.internshipPreferred = internshipPreferred;\n",
        "    }\n",
        "\n",
        "    // Getters and Setters\n",
        "\n",
        "    public String getName() {\n",
        "        return name;\n",
        "    }\n",
        "\n",
        "    public void setName(String name) {\n",
        "        this.name = name;\n",
        "    }\n",
        "\n",
        "    public List<String> getLanguagesKnown() {\n",
        "        return languagesKnown;\n",
        "    }\n",
        "\n",
        "    public void setLanguagesKnown(List<String> languagesKnown) {\n",
        "        this.languagesKnown = languagesKnown;\n",
        "    }\n",
        "\n",
        "    public String getPreferredLocation() {\n",
        "        return preferredLocation;\n",
        "    }\n",
        "\n",
        "    public void setPreferredLocation(String preferredLocation) {\n",
        "        this.preferredLocation = preferredLocation;\n",
        "    }\n",
        "\n",
        "    public boolean isInternshipPreferred() {\n",
        "        return internshipPreferred;\n",
        "    }\n",
        "\n",
        "    public void setInternshipPreferred(boolean internshipPreferred) {\n",
        "        this.internshipPreferred = internshipPreferred;\n",
        "    }\n",
        "}"
      ]
    },
    {
      "cell_type": "markdown",
      "metadata": {
        "id": "x8EU-YuoNl2F"
      },
      "source": [
        "Some similarities with the class that I designed for this FRQ and this class is that they both have private variables: an example of such in the former would be `private String word`, and an example of such in the latter would be `private String name`. However, the methods in this class are primarily for \"getting\" and \"setting\" variables, which makes sense because this was mostly for the purposes of CRUD functions."
      ]
    }
  ],
  "metadata": {
    "kernelspec": {
      "display_name": "Java",
      "language": "java",
      "name": "java"
    },
    "language_info": {
      "codemirror_mode": "java",
      "file_extension": ".jshell",
      "mimetype": "text/x-java-source",
      "name": "Java",
      "pygments_lexer": "java",
      "version": "16.0.1+9-Ubuntu-120.04"
    },
    "colab": {
      "provenance": []
    }
  },
  "nbformat": 4,
  "nbformat_minor": 0
}
